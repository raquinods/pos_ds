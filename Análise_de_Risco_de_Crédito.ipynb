{
  "nbformat": 4,
  "nbformat_minor": 0,
  "metadata": {
    "colab": {
      "provenance": []
    },
    "kernelspec": {
      "name": "python3",
      "display_name": "Python 3"
    },
    "language_info": {
      "name": "python"
    }
  },
  "cells": [
    {
      "cell_type": "markdown",
      "source": [
        "# **Projeto: Análise de Risco de Crédito**\n",
        "\n",
        "Análise de risco de crédito é uma solução financeira que procura investigar a capacidade de uma pessoa ou empresa de pagar pela compra de um produto ou pela prestação de algum serviço. E mesmo que a pessoa ou empresa analisada se mostre com condições de saldar a dívida que quer contrair, a avaliação do risco verifica se o histórico do comportamento dela no mercado é bom.\n"
      ],
      "metadata": {
        "id": "0Fig0nKh95_g"
      }
    },
    {
      "cell_type": "markdown",
      "metadata": {
        "id": "E1bPvybDyNfr"
      },
      "source": [
        "Grandes bancos e Fintechs têm apostado cada vez mais em modelos de *Machine Learning* para previnir a inadimplência de alguns clientes.\n",
        "\n",
        "Dentre as principais instituições financeira, o [Nubank](https://nubank.com.br/sobre-nos) é uma das que mais tem se destacado no uso de Inteligência Artificial e times de *Data Science*.\n",
        "\n",
        "O conjunto de dados a ser utilizado neste Projeto de *Data Science* parte de uma competição realizada pela Startup [Nubank](https://nubank.com.br/sobre-nos) a fim de revelar talentos e potenciais contratações pela Fintech."
      ]
    },
    {
      "cell_type": "markdown",
      "source": [
        "# Contextualização do Problema\n",
        "\n",
        "Neste problema, o objetivo é prever qual a probabilidade de um cliente da Startup Nubank não cumprir com suas obrigações financeiras e deixar de pagar a sua fatura do Cartão de Crédito.\n",
        "\n"
      ],
      "metadata": {
        "id": "OWhAHzMe_xQL"
      }
    },
    {
      "cell_type": "markdown",
      "metadata": {
        "id": "ACP0eUxFzdjG"
      },
      "source": [
        "Vale ressaltar que essa avaliação deve ser realizada no momento em que o cliente solicita o cartão (normalmente no primeiro contato com a instituição).\n",
        "\n",
        "Objetivo: Criar um modelo que forneça a probabilidade de um cliente virar inadimplente.\n",
        "\n",
        "Espera-se que um modelo seja capaz de minimizar as perdas financeiras do Nubank, porém minimizando também os falsos positivos."
      ]
    },
    {
      "cell_type": "markdown",
      "source": [
        "Importação de Dados\n",
        "\n",
        "Os dados que serão utilizados nesta análise estão disponíveis para download por meio deste [link](http://dl.dropboxusercontent.com/s/xn2a4kzf0zer0xu/acquisition_train.csv?dl=0). Consiste basicamente em um arquivo csv contendo 45.000 entradas e 43 colunas.\n",
        "\n",
        "Este arquivo será importado para uma estrutura DataFrame utilizando a biblioteca pandas a fim de possibilitar sua manipulação e análise."
      ],
      "metadata": {
        "id": "8zPTvptl_F5V"
      }
    },
    {
      "cell_type": "code",
      "source": [
        "# Importar os pacotes necessários\n",
        "\n",
        "# pandas para manipulação dos dados\n",
        "import pandas as pd\n",
        "\n",
        "# matplotlib para nossos gráficos\n",
        "import matplotlib.pyplot as plt\n",
        "\n",
        "# seaborn para uma melhor visualização dos gráficos\n",
        "import seaborn as sns\n",
        "\n",
        "# numpy para manipulações matemáticas\n",
        "import numpy as np"
      ],
      "metadata": {
        "id": "33C5ZI_HACyC"
      },
      "execution_count": 65,
      "outputs": []
    },
    {
      "cell_type": "code",
      "source": [
        "# Definir o estilo do seaborn para os plots\n",
        "sns.set_style()"
      ],
      "metadata": {
        "id": "eo6Pfo2xAUV3"
      },
      "execution_count": 66,
      "outputs": []
    },
    {
      "cell_type": "code",
      "source": [
        "# Filtrar mensagens de warning\n",
        "import warnings\n",
        "warnings.filterwarnings('ignore')"
      ],
      "metadata": {
        "id": "u8Yu04DGAdFE"
      },
      "execution_count": 67,
      "outputs": []
    },
    {
      "cell_type": "code",
      "source": [
        "# Importando os dados\n",
        "base_credit = pd.read_csv(\"http://dl.dropboxusercontent.com/s/xn2a4kzf0zer0xu/acquisition_train.csv?dl=0\")"
      ],
      "metadata": {
        "id": "6-_S_cq_AhPA"
      },
      "execution_count": 68,
      "outputs": []
    },
    {
      "cell_type": "markdown",
      "source": [
        "# Análise Exploratória dos **dados**"
      ],
      "metadata": {
        "id": "Ef2CyckDBiSz"
      }
    },
    {
      "cell_type": "code",
      "source": [
        "# Dimensões do df\n",
        "print(\"Dimensões do DataFrame:\")\n",
        "print(\"Linhas:\\t\\t{}\".format(base_credit.shape[0]))\n",
        "print(\"Colunas:\\t{}\".format(base_credit.shape[1]))"
      ],
      "metadata": {
        "colab": {
          "base_uri": "https://localhost:8080/"
        },
        "id": "UZfWsI1ZBlIF",
        "outputId": "1e333182-6e08-46cb-a781-b5eeb02e73cb"
      },
      "execution_count": 69,
      "outputs": [
        {
          "output_type": "stream",
          "name": "stdout",
          "text": [
            "Dimensões do DataFrame:\n",
            "Linhas:\t\t45000\n",
            "Colunas:\t43\n"
          ]
        }
      ]
    },
    {
      "cell_type": "code",
      "source": [
        "# Informação das colunas e tipos de dados\n",
        "base_credit.info()"
      ],
      "metadata": {
        "colab": {
          "base_uri": "https://localhost:8080/"
        },
        "id": "sBiYUdd6EERP",
        "outputId": "6a017f7d-210a-4efd-c23a-68f49308eb62"
      },
      "execution_count": 70,
      "outputs": [
        {
          "output_type": "stream",
          "name": "stdout",
          "text": [
            "<class 'pandas.core.frame.DataFrame'>\n",
            "RangeIndex: 45000 entries, 0 to 44999\n",
            "Data columns (total 43 columns):\n",
            " #   Column                                            Non-Null Count  Dtype  \n",
            "---  ------                                            --------------  -----  \n",
            " 0   ids                                               45000 non-null  object \n",
            " 1   target_default                                    41741 non-null  object \n",
            " 2   score_1                                           44438 non-null  object \n",
            " 3   score_2                                           44438 non-null  object \n",
            " 4   score_3                                           44438 non-null  float64\n",
            " 5   score_4                                           45000 non-null  float64\n",
            " 6   score_5                                           45000 non-null  float64\n",
            " 7   score_6                                           45000 non-null  float64\n",
            " 8   risk_rate                                         44438 non-null  float64\n",
            " 9   last_amount_borrowed                              15044 non-null  float64\n",
            " 10  last_borrowed_in_months                           15044 non-null  float64\n",
            " 11  credit_limit                                      31200 non-null  float64\n",
            " 12  reason                                            44434 non-null  object \n",
            " 13  income                                            44438 non-null  float64\n",
            " 14  facebook_profile                                  40542 non-null  object \n",
            " 15  state                                             44438 non-null  object \n",
            " 16  zip                                               44438 non-null  object \n",
            " 17  channel                                           44438 non-null  object \n",
            " 18  job_name                                          41664 non-null  object \n",
            " 19  real_state                                        44438 non-null  object \n",
            " 20  ok_since                                          18455 non-null  float64\n",
            " 21  n_bankruptcies                                    44303 non-null  float64\n",
            " 22  n_defaulted_loans                                 44426 non-null  float64\n",
            " 23  n_accounts                                        44438 non-null  float64\n",
            " 24  n_issues                                          33456 non-null  float64\n",
            " 25  application_time_applied                          45000 non-null  object \n",
            " 26  application_time_in_funnel                        45000 non-null  int64  \n",
            " 27  email                                             45000 non-null  object \n",
            " 28  external_data_provider_credit_checks_last_2_year  22372 non-null  float64\n",
            " 29  external_data_provider_credit_checks_last_month   45000 non-null  int64  \n",
            " 30  external_data_provider_credit_checks_last_year    29876 non-null  float64\n",
            " 31  external_data_provider_email_seen_before          42767 non-null  float64\n",
            " 32  external_data_provider_first_name                 45000 non-null  object \n",
            " 33  external_data_provider_fraud_score                45000 non-null  int64  \n",
            " 34  lat_lon                                           43637 non-null  object \n",
            " 35  marketing_channel                                 41422 non-null  object \n",
            " 36  profile_phone_number                              45000 non-null  object \n",
            " 37  reported_income                                   45000 non-null  float64\n",
            " 38  shipping_state                                    45000 non-null  object \n",
            " 39  shipping_zip_code                                 45000 non-null  int64  \n",
            " 40  profile_tags                                      45000 non-null  object \n",
            " 41  user_agent                                        44278 non-null  object \n",
            " 42  target_fraud                                      1522 non-null   object \n",
            "dtypes: float64(18), int64(4), object(21)\n",
            "memory usage: 14.8+ MB\n"
          ]
        }
      ]
    },
    {
      "cell_type": "code",
      "source": [
        "# Visualizando os 5 primeiros registros\n",
        "base_credit.head(5)"
      ],
      "metadata": {
        "colab": {
          "base_uri": "https://localhost:8080/",
          "height": 699
        },
        "id": "kUOzi1yiGAwl",
        "outputId": "894bb4ad-1ea6-4472-c239-f5b4c182df39"
      },
      "execution_count": 71,
      "outputs": [
        {
          "output_type": "execute_result",
          "data": {
            "text/plain": [
              "                                    ids target_default  \\\n",
              "0  343b7e7b-2cf8-e508-b8fd-0a0285af30aa          False   \n",
              "1  bc2c7502-bbad-0f8c-39c3-94e881967124          False   \n",
              "2  669630dd-2e6a-0396-84bf-455e5009c922           True   \n",
              "3  d235609e-b6cb-0ccc-a329-d4f12e7ebdc1          False   \n",
              "4  9e0eb880-e8f4-3faa-67d8-f5cdd2b3932b          False   \n",
              "\n",
              "                    score_1                   score_2  score_3     score_4  \\\n",
              "0  1Rk8w4Ucd5yR3KcqZzLdow==  IOVu8au3ISbo6+zmfnYwMg==    350.0  101.800832   \n",
              "1  DGCQep2AE5QRkNCshIAlFQ==  SaamrHMo23l/3TwXOWgVzw==    370.0   97.062615   \n",
              "2  DGCQep2AE5QRkNCshIAlFQ==  Fv28Bz0YRTVAT5kl1bAV6g==    360.0  100.027073   \n",
              "3  1Rk8w4Ucd5yR3KcqZzLdow==  dCm9hFKfdRm7ej3jW+gyxw==    510.0  101.599485   \n",
              "4  8k8UDR4Yx0qasAjkGrUZLw==  +CxEO4w7jv3QPI/BQbyqAA==    500.0   98.474289   \n",
              "\n",
              "    score_5     score_6  risk_rate  last_amount_borrowed  ...  \\\n",
              "0  0.259555  108.427273       0.40              25033.92  ...   \n",
              "1  0.942655   92.002546       0.24                   NaN  ...   \n",
              "2  0.351918  112.892453       0.29               7207.92  ...   \n",
              "3  0.987673   94.902491       0.32                   NaN  ...   \n",
              "4  0.532539  118.126207       0.18                   NaN  ...   \n",
              "\n",
              "   external_data_provider_fraud_score  \\\n",
              "0                                 645   \n",
              "1                                 243   \n",
              "2                                  65   \n",
              "3                                 815   \n",
              "4                                 320   \n",
              "\n",
              "                                      lat_lon marketing_channel  \\\n",
              "0    (-29.151545708122246, -51.1386461804385)      Invite-email   \n",
              "1   (-19.687710705798963, -47.94151536525154)  Radio-commercial   \n",
              "2  (-28.748023890412284, -51.867279334353995)      Waiting-list   \n",
              "3   (-17.520650158450454, -39.75801139933186)      Waiting-list   \n",
              "4   (-16.574259446978008, -39.90990074785962)      Invite-email   \n",
              "\n",
              "   profile_phone_number reported_income shipping_state shipping_zip_code  \\\n",
              "0           514-9840782         57849.0          BR-MT             17528   \n",
              "1           251-3659293          4902.0          BR-RS             40933   \n",
              "2           230-6097993        163679.0          BR-RR             50985   \n",
              "3           261-3543751          1086.0          BR-RN             37825   \n",
              "4           102-3660162        198618.0          BR-MT             52827   \n",
              "\n",
              "                                profile_tags  \\\n",
              "0                    {'tags': ['n19', 'n8']}   \n",
              "1              {'tags': ['n6', 'n7', 'nim']}   \n",
              "2       {'tags': ['n0', 'n17', 'nim', 'da']}   \n",
              "3                           {'tags': ['n4']}   \n",
              "4  {'tags': ['pro+aty', 'n19', 'da', 'b19']}   \n",
              "\n",
              "                                          user_agent target_fraud  \n",
              "0  Mozilla/5.0 (Linux; Android 6.0.1; SGP771 Buil...          NaN  \n",
              "1  Mozilla/5.0 (Linux; Android 5.0.2; SAMSUNG SM-...          NaN  \n",
              "2  Mozilla/5.0 (Linux; Android 6.0.1; SGP771 Buil...          NaN  \n",
              "3  Mozilla/5.0 (Linux; Android 6.0; HTC One X10 B...          NaN  \n",
              "4  Mozilla/5.0 (Linux; Android 7.0; Pixel C Build...          NaN  \n",
              "\n",
              "[5 rows x 43 columns]"
            ],
            "text/html": [
              "\n",
              "  <div id=\"df-6b70ecac-83c8-4572-897a-afb6a9ba1686\">\n",
              "    <div class=\"colab-df-container\">\n",
              "      <div>\n",
              "<style scoped>\n",
              "    .dataframe tbody tr th:only-of-type {\n",
              "        vertical-align: middle;\n",
              "    }\n",
              "\n",
              "    .dataframe tbody tr th {\n",
              "        vertical-align: top;\n",
              "    }\n",
              "\n",
              "    .dataframe thead th {\n",
              "        text-align: right;\n",
              "    }\n",
              "</style>\n",
              "<table border=\"1\" class=\"dataframe\">\n",
              "  <thead>\n",
              "    <tr style=\"text-align: right;\">\n",
              "      <th></th>\n",
              "      <th>ids</th>\n",
              "      <th>target_default</th>\n",
              "      <th>score_1</th>\n",
              "      <th>score_2</th>\n",
              "      <th>score_3</th>\n",
              "      <th>score_4</th>\n",
              "      <th>score_5</th>\n",
              "      <th>score_6</th>\n",
              "      <th>risk_rate</th>\n",
              "      <th>last_amount_borrowed</th>\n",
              "      <th>...</th>\n",
              "      <th>external_data_provider_fraud_score</th>\n",
              "      <th>lat_lon</th>\n",
              "      <th>marketing_channel</th>\n",
              "      <th>profile_phone_number</th>\n",
              "      <th>reported_income</th>\n",
              "      <th>shipping_state</th>\n",
              "      <th>shipping_zip_code</th>\n",
              "      <th>profile_tags</th>\n",
              "      <th>user_agent</th>\n",
              "      <th>target_fraud</th>\n",
              "    </tr>\n",
              "  </thead>\n",
              "  <tbody>\n",
              "    <tr>\n",
              "      <th>0</th>\n",
              "      <td>343b7e7b-2cf8-e508-b8fd-0a0285af30aa</td>\n",
              "      <td>False</td>\n",
              "      <td>1Rk8w4Ucd5yR3KcqZzLdow==</td>\n",
              "      <td>IOVu8au3ISbo6+zmfnYwMg==</td>\n",
              "      <td>350.0</td>\n",
              "      <td>101.800832</td>\n",
              "      <td>0.259555</td>\n",
              "      <td>108.427273</td>\n",
              "      <td>0.40</td>\n",
              "      <td>25033.92</td>\n",
              "      <td>...</td>\n",
              "      <td>645</td>\n",
              "      <td>(-29.151545708122246, -51.1386461804385)</td>\n",
              "      <td>Invite-email</td>\n",
              "      <td>514-9840782</td>\n",
              "      <td>57849.0</td>\n",
              "      <td>BR-MT</td>\n",
              "      <td>17528</td>\n",
              "      <td>{'tags': ['n19', 'n8']}</td>\n",
              "      <td>Mozilla/5.0 (Linux; Android 6.0.1; SGP771 Buil...</td>\n",
              "      <td>NaN</td>\n",
              "    </tr>\n",
              "    <tr>\n",
              "      <th>1</th>\n",
              "      <td>bc2c7502-bbad-0f8c-39c3-94e881967124</td>\n",
              "      <td>False</td>\n",
              "      <td>DGCQep2AE5QRkNCshIAlFQ==</td>\n",
              "      <td>SaamrHMo23l/3TwXOWgVzw==</td>\n",
              "      <td>370.0</td>\n",
              "      <td>97.062615</td>\n",
              "      <td>0.942655</td>\n",
              "      <td>92.002546</td>\n",
              "      <td>0.24</td>\n",
              "      <td>NaN</td>\n",
              "      <td>...</td>\n",
              "      <td>243</td>\n",
              "      <td>(-19.687710705798963, -47.94151536525154)</td>\n",
              "      <td>Radio-commercial</td>\n",
              "      <td>251-3659293</td>\n",
              "      <td>4902.0</td>\n",
              "      <td>BR-RS</td>\n",
              "      <td>40933</td>\n",
              "      <td>{'tags': ['n6', 'n7', 'nim']}</td>\n",
              "      <td>Mozilla/5.0 (Linux; Android 5.0.2; SAMSUNG SM-...</td>\n",
              "      <td>NaN</td>\n",
              "    </tr>\n",
              "    <tr>\n",
              "      <th>2</th>\n",
              "      <td>669630dd-2e6a-0396-84bf-455e5009c922</td>\n",
              "      <td>True</td>\n",
              "      <td>DGCQep2AE5QRkNCshIAlFQ==</td>\n",
              "      <td>Fv28Bz0YRTVAT5kl1bAV6g==</td>\n",
              "      <td>360.0</td>\n",
              "      <td>100.027073</td>\n",
              "      <td>0.351918</td>\n",
              "      <td>112.892453</td>\n",
              "      <td>0.29</td>\n",
              "      <td>7207.92</td>\n",
              "      <td>...</td>\n",
              "      <td>65</td>\n",
              "      <td>(-28.748023890412284, -51.867279334353995)</td>\n",
              "      <td>Waiting-list</td>\n",
              "      <td>230-6097993</td>\n",
              "      <td>163679.0</td>\n",
              "      <td>BR-RR</td>\n",
              "      <td>50985</td>\n",
              "      <td>{'tags': ['n0', 'n17', 'nim', 'da']}</td>\n",
              "      <td>Mozilla/5.0 (Linux; Android 6.0.1; SGP771 Buil...</td>\n",
              "      <td>NaN</td>\n",
              "    </tr>\n",
              "    <tr>\n",
              "      <th>3</th>\n",
              "      <td>d235609e-b6cb-0ccc-a329-d4f12e7ebdc1</td>\n",
              "      <td>False</td>\n",
              "      <td>1Rk8w4Ucd5yR3KcqZzLdow==</td>\n",
              "      <td>dCm9hFKfdRm7ej3jW+gyxw==</td>\n",
              "      <td>510.0</td>\n",
              "      <td>101.599485</td>\n",
              "      <td>0.987673</td>\n",
              "      <td>94.902491</td>\n",
              "      <td>0.32</td>\n",
              "      <td>NaN</td>\n",
              "      <td>...</td>\n",
              "      <td>815</td>\n",
              "      <td>(-17.520650158450454, -39.75801139933186)</td>\n",
              "      <td>Waiting-list</td>\n",
              "      <td>261-3543751</td>\n",
              "      <td>1086.0</td>\n",
              "      <td>BR-RN</td>\n",
              "      <td>37825</td>\n",
              "      <td>{'tags': ['n4']}</td>\n",
              "      <td>Mozilla/5.0 (Linux; Android 6.0; HTC One X10 B...</td>\n",
              "      <td>NaN</td>\n",
              "    </tr>\n",
              "    <tr>\n",
              "      <th>4</th>\n",
              "      <td>9e0eb880-e8f4-3faa-67d8-f5cdd2b3932b</td>\n",
              "      <td>False</td>\n",
              "      <td>8k8UDR4Yx0qasAjkGrUZLw==</td>\n",
              "      <td>+CxEO4w7jv3QPI/BQbyqAA==</td>\n",
              "      <td>500.0</td>\n",
              "      <td>98.474289</td>\n",
              "      <td>0.532539</td>\n",
              "      <td>118.126207</td>\n",
              "      <td>0.18</td>\n",
              "      <td>NaN</td>\n",
              "      <td>...</td>\n",
              "      <td>320</td>\n",
              "      <td>(-16.574259446978008, -39.90990074785962)</td>\n",
              "      <td>Invite-email</td>\n",
              "      <td>102-3660162</td>\n",
              "      <td>198618.0</td>\n",
              "      <td>BR-MT</td>\n",
              "      <td>52827</td>\n",
              "      <td>{'tags': ['pro+aty', 'n19', 'da', 'b19']}</td>\n",
              "      <td>Mozilla/5.0 (Linux; Android 7.0; Pixel C Build...</td>\n",
              "      <td>NaN</td>\n",
              "    </tr>\n",
              "  </tbody>\n",
              "</table>\n",
              "<p>5 rows × 43 columns</p>\n",
              "</div>\n",
              "      <button class=\"colab-df-convert\" onclick=\"convertToInteractive('df-6b70ecac-83c8-4572-897a-afb6a9ba1686')\"\n",
              "              title=\"Convert this dataframe to an interactive table.\"\n",
              "              style=\"display:none;\">\n",
              "        \n",
              "  <svg xmlns=\"http://www.w3.org/2000/svg\" height=\"24px\"viewBox=\"0 0 24 24\"\n",
              "       width=\"24px\">\n",
              "    <path d=\"M0 0h24v24H0V0z\" fill=\"none\"/>\n",
              "    <path d=\"M18.56 5.44l.94 2.06.94-2.06 2.06-.94-2.06-.94-.94-2.06-.94 2.06-2.06.94zm-11 1L8.5 8.5l.94-2.06 2.06-.94-2.06-.94L8.5 2.5l-.94 2.06-2.06.94zm10 10l.94 2.06.94-2.06 2.06-.94-2.06-.94-.94-2.06-.94 2.06-2.06.94z\"/><path d=\"M17.41 7.96l-1.37-1.37c-.4-.4-.92-.59-1.43-.59-.52 0-1.04.2-1.43.59L10.3 9.45l-7.72 7.72c-.78.78-.78 2.05 0 2.83L4 21.41c.39.39.9.59 1.41.59.51 0 1.02-.2 1.41-.59l7.78-7.78 2.81-2.81c.8-.78.8-2.07 0-2.86zM5.41 20L4 18.59l7.72-7.72 1.47 1.35L5.41 20z\"/>\n",
              "  </svg>\n",
              "      </button>\n",
              "      \n",
              "  <style>\n",
              "    .colab-df-container {\n",
              "      display:flex;\n",
              "      flex-wrap:wrap;\n",
              "      gap: 12px;\n",
              "    }\n",
              "\n",
              "    .colab-df-convert {\n",
              "      background-color: #E8F0FE;\n",
              "      border: none;\n",
              "      border-radius: 50%;\n",
              "      cursor: pointer;\n",
              "      display: none;\n",
              "      fill: #1967D2;\n",
              "      height: 32px;\n",
              "      padding: 0 0 0 0;\n",
              "      width: 32px;\n",
              "    }\n",
              "\n",
              "    .colab-df-convert:hover {\n",
              "      background-color: #E2EBFA;\n",
              "      box-shadow: 0px 1px 2px rgba(60, 64, 67, 0.3), 0px 1px 3px 1px rgba(60, 64, 67, 0.15);\n",
              "      fill: #174EA6;\n",
              "    }\n",
              "\n",
              "    [theme=dark] .colab-df-convert {\n",
              "      background-color: #3B4455;\n",
              "      fill: #D2E3FC;\n",
              "    }\n",
              "\n",
              "    [theme=dark] .colab-df-convert:hover {\n",
              "      background-color: #434B5C;\n",
              "      box-shadow: 0px 1px 3px 1px rgba(0, 0, 0, 0.15);\n",
              "      filter: drop-shadow(0px 1px 2px rgba(0, 0, 0, 0.3));\n",
              "      fill: #FFFFFF;\n",
              "    }\n",
              "  </style>\n",
              "\n",
              "      <script>\n",
              "        const buttonEl =\n",
              "          document.querySelector('#df-6b70ecac-83c8-4572-897a-afb6a9ba1686 button.colab-df-convert');\n",
              "        buttonEl.style.display =\n",
              "          google.colab.kernel.accessAllowed ? 'block' : 'none';\n",
              "\n",
              "        async function convertToInteractive(key) {\n",
              "          const element = document.querySelector('#df-6b70ecac-83c8-4572-897a-afb6a9ba1686');\n",
              "          const dataTable =\n",
              "            await google.colab.kernel.invokeFunction('convertToInteractive',\n",
              "                                                     [key], {});\n",
              "          if (!dataTable) return;\n",
              "\n",
              "          const docLinkHtml = 'Like what you see? Visit the ' +\n",
              "            '<a target=\"_blank\" href=https://colab.research.google.com/notebooks/data_table.ipynb>data table notebook</a>'\n",
              "            + ' to learn more about interactive tables.';\n",
              "          element.innerHTML = '';\n",
              "          dataTable['output_type'] = 'display_data';\n",
              "          await google.colab.output.renderOutput(dataTable, element);\n",
              "          const docLink = document.createElement('div');\n",
              "          docLink.innerHTML = docLinkHtml;\n",
              "          element.appendChild(docLink);\n",
              "        }\n",
              "      </script>\n",
              "    </div>\n",
              "  </div>\n",
              "  "
            ]
          },
          "metadata": {},
          "execution_count": 71
        }
      ]
    },
    {
      "cell_type": "code",
      "source": [
        "# Análise de dados ausentes\n",
        "print((base_credit.isnull().sum() / base_credit.shape[0]).sort_values(ascending=False))"
      ],
      "metadata": {
        "colab": {
          "base_uri": "https://localhost:8080/"
        },
        "id": "yQMVtEEcFD_G",
        "outputId": "c8c8ec6a-f35d-41af-ab9f-1a5a5d758338"
      },
      "execution_count": 72,
      "outputs": [
        {
          "output_type": "stream",
          "name": "stdout",
          "text": [
            "target_fraud                                        0.966178\n",
            "last_amount_borrowed                                0.665689\n",
            "last_borrowed_in_months                             0.665689\n",
            "ok_since                                            0.589889\n",
            "external_data_provider_credit_checks_last_2_year    0.502844\n",
            "external_data_provider_credit_checks_last_year      0.336089\n",
            "credit_limit                                        0.306667\n",
            "n_issues                                            0.256533\n",
            "facebook_profile                                    0.099067\n",
            "marketing_channel                                   0.079511\n",
            "job_name                                            0.074133\n",
            "target_default                                      0.072422\n",
            "external_data_provider_email_seen_before            0.049622\n",
            "lat_lon                                             0.030289\n",
            "user_agent                                          0.016044\n",
            "n_bankruptcies                                      0.015489\n",
            "n_defaulted_loans                                   0.012756\n",
            "reason                                              0.012578\n",
            "zip                                                 0.012489\n",
            "n_accounts                                          0.012489\n",
            "channel                                             0.012489\n",
            "score_1                                             0.012489\n",
            "score_3                                             0.012489\n",
            "risk_rate                                           0.012489\n",
            "income                                              0.012489\n",
            "real_state                                          0.012489\n",
            "state                                               0.012489\n",
            "score_2                                             0.012489\n",
            "profile_tags                                        0.000000\n",
            "shipping_zip_code                                   0.000000\n",
            "shipping_state                                      0.000000\n",
            "reported_income                                     0.000000\n",
            "profile_phone_number                                0.000000\n",
            "external_data_provider_credit_checks_last_month     0.000000\n",
            "external_data_provider_fraud_score                  0.000000\n",
            "external_data_provider_first_name                   0.000000\n",
            "score_4                                             0.000000\n",
            "score_5                                             0.000000\n",
            "score_6                                             0.000000\n",
            "email                                               0.000000\n",
            "application_time_in_funnel                          0.000000\n",
            "application_time_applied                            0.000000\n",
            "ids                                                 0.000000\n",
            "dtype: float64\n"
          ]
        }
      ]
    },
    {
      "cell_type": "markdown",
      "source": [
        "\n",
        "\n",
        "Em relação à porcentagem de valores ausentes identificados neste dataset:\n",
        "\n",
        "* Diversas variáveis como ['target_fraud', 'last_amount_borrowed', 'last_borrowed_in_months', 'ok_since', 'external_data_provider_credit_checks_last_2_year'] possuem mais da metade dos valores ausentes.\n",
        "\n",
        "* As variáves ['external_data_provider_credit_checks_last_year', 'credit_limit', 'n_issues'] possuem entre 25-34% do seus valores ausentes.\n",
        "\n",
        "Em relação à porcentagem de valores preenchidos identificados neste dataset:\n",
        "\n",
        "* As variáveis ['shipping_zip_code','score_4','score_5','profile_tags','score_6','application_time_in_funnel','shipping_state','reported_income','application_time_applied','profile_phone_number','external_data_provider_fraud_score','external_data_provider_first_name', 'external_data_provider_credit_checks_last_month',email',ids'] estão totalmente preenchidas.\n",
        "\n",
        "* A variável alvo target_default contém valores nulos que serão eliminados do dataset.\n",
        "\n",
        "Neste projeto, o caso mais extremo (target_fraud) não representa um problema, pois é uma variável alvo que não interessa para a análise de risco de inadimplência. Já as demais features deverão ser usadas com o devido cuidado.\n",
        "\n",
        "Uma outra análise interessante de se fazer diz respeito à contagem de valores únicos por features. Muitas vezes, variáveis numéricas podem esconder classes/categorias que melhor representariam uma feature, ou revelar uma quantidade elevada de classes para \"variáveis categóricas\".\n"
      ],
      "metadata": {
        "id": "MImWLbY2NpbT"
      }
    },
    {
      "cell_type": "code",
      "source": [
        "base_credit.isnull().sum()"
      ],
      "metadata": {
        "colab": {
          "base_uri": "https://localhost:8080/"
        },
        "id": "7F42XVGpWCwF",
        "outputId": "c4176095-1b34-4f8e-9ab4-28f0045b06c2"
      },
      "execution_count": 73,
      "outputs": [
        {
          "output_type": "execute_result",
          "data": {
            "text/plain": [
              "ids                                                     0\n",
              "target_default                                       3259\n",
              "score_1                                               562\n",
              "score_2                                               562\n",
              "score_3                                               562\n",
              "score_4                                                 0\n",
              "score_5                                                 0\n",
              "score_6                                                 0\n",
              "risk_rate                                             562\n",
              "last_amount_borrowed                                29956\n",
              "last_borrowed_in_months                             29956\n",
              "credit_limit                                        13800\n",
              "reason                                                566\n",
              "income                                                562\n",
              "facebook_profile                                     4458\n",
              "state                                                 562\n",
              "zip                                                   562\n",
              "channel                                               562\n",
              "job_name                                             3336\n",
              "real_state                                            562\n",
              "ok_since                                            26545\n",
              "n_bankruptcies                                        697\n",
              "n_defaulted_loans                                     574\n",
              "n_accounts                                            562\n",
              "n_issues                                            11544\n",
              "application_time_applied                                0\n",
              "application_time_in_funnel                              0\n",
              "email                                                   0\n",
              "external_data_provider_credit_checks_last_2_year    22628\n",
              "external_data_provider_credit_checks_last_month         0\n",
              "external_data_provider_credit_checks_last_year      15124\n",
              "external_data_provider_email_seen_before             2233\n",
              "external_data_provider_first_name                       0\n",
              "external_data_provider_fraud_score                      0\n",
              "lat_lon                                              1363\n",
              "marketing_channel                                    3578\n",
              "profile_phone_number                                    0\n",
              "reported_income                                         0\n",
              "shipping_state                                          0\n",
              "shipping_zip_code                                       0\n",
              "profile_tags                                            0\n",
              "user_agent                                            722\n",
              "target_fraud                                        43478\n",
              "dtype: int64"
            ]
          },
          "metadata": {},
          "execution_count": 73
        }
      ]
    },
    {
      "cell_type": "code",
      "source": [
        "print(base_credit.nunique().sort_values())"
      ],
      "metadata": {
        "colab": {
          "base_uri": "https://localhost:8080/"
        },
        "id": "R4_pUCMiMVeg",
        "outputId": "b357d805-c790-452c-f4c0-e7adb5162ee9"
      },
      "execution_count": 74,
      "outputs": [
        {
          "output_type": "stream",
          "name": "stdout",
          "text": [
            "external_data_provider_credit_checks_last_2_year        1\n",
            "channel                                                 1\n",
            "target_fraud                                            2\n",
            "target_default                                          2\n",
            "external_data_provider_credit_checks_last_year          2\n",
            "facebook_profile                                        2\n",
            "last_borrowed_in_months                                 2\n",
            "external_data_provider_credit_checks_last_month         4\n",
            "n_defaulted_loans                                       5\n",
            "real_state                                              5\n",
            "email                                                   6\n",
            "n_bankruptcies                                          6\n",
            "score_1                                                 7\n",
            "marketing_channel                                       9\n",
            "shipping_state                                         25\n",
            "score_2                                                35\n",
            "n_issues                                               44\n",
            "n_accounts                                             44\n",
            "state                                                  50\n",
            "external_data_provider_email_seen_before               62\n",
            "risk_rate                                              82\n",
            "score_3                                                88\n",
            "ok_since                                              100\n",
            "user_agent                                            297\n",
            "application_time_in_funnel                            501\n",
            "zip                                                   823\n",
            "external_data_provider_fraud_score                   1001\n",
            "last_amount_borrowed                                14325\n",
            "reason                                              14874\n",
            "credit_limit                                        20928\n",
            "lat_lon                                             22412\n",
            "profile_tags                                        26131\n",
            "shipping_zip_code                                   28263\n",
            "job_name                                            32265\n",
            "external_data_provider_first_name                   32886\n",
            "application_time_applied                            35543\n",
            "reported_income                                     40025\n",
            "income                                              41211\n",
            "score_4                                             45000\n",
            "score_5                                             45000\n",
            "score_6                                             45000\n",
            "profile_phone_number                                45000\n",
            "ids                                                 45000\n",
            "dtype: int64\n"
          ]
        }
      ]
    },
    {
      "cell_type": "markdown",
      "source": [
        "A contagem de valores únicos mostra que as colunas external_data_provider_credit_checks_last_2_year e channel apresentam um único valor possível. Como não há maiores informações sobre cada feature, as duas colunas serão descartadas para o modelo de Machine Learning.\n",
        "\n",
        "A coluna **ids** é anônima e representa o identificador único do cliente. Normalmente essa coluna não influência no modelo de machine learning.\n",
        "\n",
        "A coluna **target_default** é o nosso alvo. Essa coluna representa no dataset se o cliente cumpriu ou não com as obrigações junto a instituição financeira.\n",
        "\n",
        "As colunas **score_1** e **score_2** estão codificadas de alguma forma. As colunas **score_3**, **score_4**, **score_5** e **score_6** são numéricas. Essas variáveis classificam o cliente quanto a pontuação de crédito e iremos verificar a quantidade de códigos para analisar a sua transformação para categorias.\n",
        "\n",
        "Existem outras variáveis que apresentam algum tipo de codificação, como [‘reason’, ‘state’, ‘zip’, ‘channel’, ‘job_name’, ‘real_state’] que estão codificadas e também precisarão de alguma análise mais aprofundada para saber se é possível extrair alguma informação das mesmas.\n",
        "\n",
        "A coluna **lat_lon** está em formato string contendo uma tupla com as coordenadas. A coluna shipping_zip_code é referente ao CEP do canal de comunicação indicado pelo cliente, assim como a coluna zip provavelmente representa o CEP do imóvel onde o empréstimo foi realizado.\n",
        "\n",
        "As colunas **last_amount_borrowed**, **last_borrowed_in_months**, **credit_limit** indicam a existência de empréstimos, quando o último empréstimo foi realizado e o limite de crédito para o cliente.\n"
      ],
      "metadata": {
        "id": "aApJAl06OQK-"
      }
    },
    {
      "cell_type": "markdown",
      "source": [
        "# **Tratamento dos dados**\n",
        "\n",
        "Conforme nossas informações vamos fazer algumas limpezas"
      ],
      "metadata": {
        "id": "XPt0jaFYdgSY"
      }
    },
    {
      "cell_type": "code",
      "source": [
        "# Cópia do Dataset\n",
        "base_credit_clean = base_credit.copy()"
      ],
      "metadata": {
        "id": "X_scgqXNfIhe"
      },
      "execution_count": 75,
      "outputs": []
    },
    {
      "cell_type": "code",
      "source": [
        "# excluir valores ausentes no campo target_default devido a ausência\n",
        "# de estratégia aplicável neste caso.\n",
        "base_credit_clean.dropna(subset=['target_default'], inplace=True)"
      ],
      "metadata": {
        "id": "HkKlXrH2a8-E"
      },
      "execution_count": 76,
      "outputs": []
    },
    {
      "cell_type": "code",
      "source": [
        "# As colunas ids, external_data_provider_credit_checks_last_2_year, channel e\n",
        "# profile_phone_number serão excluídas conforme comentado acima.\n",
        "base_credit_clean.drop(labels=['ids', 'external_data_provider_credit_checks_last_year', 'channel', 'profile_phone_number'], axis=1, inplace=True)"
      ],
      "metadata": {
        "id": "YRYjlmPcfho7"
      },
      "execution_count": 77,
      "outputs": []
    },
    {
      "cell_type": "code",
      "source": [
        "# Substituindo\n",
        "base_credit_clean['reported_income'] = base_credit_clean['reported_income'].replace(np.inf, np.nan)"
      ],
      "metadata": {
        "id": "vhgNGIJghWfQ"
      },
      "execution_count": 78,
      "outputs": []
    },
    {
      "cell_type": "code",
      "source": [
        "# Substituindo o valor -999 em 'external_data_provider_email_seen_before' por 'NaN'\n",
        "base_credit_clean.loc[base_credit_clean['external_data_provider_email_seen_before'] == -999.0,\n",
        "             'external_data_provider_email_seen_before'] = np.nan"
      ],
      "metadata": {
        "id": "Jo0NdbXTiI4q"
      },
      "execution_count": 79,
      "outputs": []
    },
    {
      "cell_type": "code",
      "source": [
        "# Eliminando as colunas sem informação aparente ou que demandam mais pesquisa\n",
        "\n",
        "# Variável temporária para armazenar o label das colunas a serem eliminadas\n",
        "drop_var = ['reason', 'zip', 'job_name', 'external_data_provider_first_name',\n",
        "            'lat_lon', 'shipping_zip_code', 'user_agent', 'profile_tags',\n",
        "            'application_time_applied', 'email', 'marketing_channel',\n",
        "            'target_fraud']\n",
        "\n",
        "# Eliminar as colunas\n",
        "base_credit_clean.drop(labels=drop_var, axis=1, inplace=True)"
      ],
      "metadata": {
        "id": "x5q9L-I_iUnf"
      },
      "execution_count": 80,
      "outputs": []
    },
    {
      "cell_type": "markdown",
      "source": [
        "\n",
        "\n",
        "Como não temos informações sobre todas as colunas (features), vamos assumir como verdade que :\n",
        "\n",
        "  1. Algumas não são obrigatórias (exemplo perfil no Facebook);\n",
        "\n",
        "  2. Por não conhecermos em detalhes o dataset, para dados que se referem às últimas ocorrências, com informação null, vamos considerar zero , exemplo ['last_amount_borrowed', 'last_borrowed_in_months', 'n_issues'].\n",
        "\n",
        "  3. Para as variáveis numéricas, com valor NaN será adotado o valor da mediana\n",
        "\n",
        "  4. Para as categóricas o valor mais frequente.\n",
        "\n"
      ],
      "metadata": {
        "id": "GLG5_8G5lKEk"
      }
    },
    {
      "cell_type": "code",
      "source": [
        "# substituição de valores ausentes confome item 2 de nossa análise anterior\n",
        "base_credit_clean.last_amount_borrowed.fillna(value=0, inplace=True)\n",
        "base_credit_clean.last_borrowed_in_months.fillna(value=0, inplace=True)\n",
        "base_credit_clean.n_issues.fillna(value=0, inplace=True)"
      ],
      "metadata": {
        "id": "4MrUuQBXlhxk"
      },
      "execution_count": 81,
      "outputs": []
    },
    {
      "cell_type": "code",
      "source": [
        "# Importando a biblioteca para substituição dos valores conforme definido acima no item 4\n",
        "from sklearn.impute import SimpleImputer\n",
        "\n",
        "# Atribuindo os labels das colunas númericas a uma variável\n",
        "num_df = base_credit_clean.select_dtypes(exclude='object').columns\n",
        "\n",
        "# Atribuindo os labels das colunas categórcias a uma variável\n",
        "cat_df = base_credit_clean.select_dtypes(include='object').columns\n"
      ],
      "metadata": {
        "id": "K05E8693llq1"
      },
      "execution_count": 82,
      "outputs": []
    },
    {
      "cell_type": "code",
      "source": [
        "# substituindo as variáveis categóricas pelos valores mais frequentes conforme definido acima no item 4\n",
        "imputer = SimpleImputer(missing_values=np.nan, strategy='most_frequent')\n",
        "imputer = imputer.fit(base_credit_clean.loc[:,cat_df])\n",
        "base_credit_clean.loc[:,cat_df] = imputer.transform(base_credit_clean.loc[:,cat_df])"
      ],
      "metadata": {
        "id": "e5dcC3GFl9Ve"
      },
      "execution_count": 83,
      "outputs": []
    },
    {
      "cell_type": "code",
      "source": [
        "# substituindo as variáveis numéricas pela mediana conforme definido acima no item 3\n",
        "imputer = SimpleImputer(missing_values=np.nan, strategy='median')\n",
        "imputer = imputer.fit(base_credit_clean.loc[:,num_df])\n",
        "base_credit_clean.loc[:,num_df] = imputer.transform(base_credit_clean.loc[:,num_df])"
      ],
      "metadata": {
        "id": "9Nrzvn9dl-JQ"
      },
      "execution_count": 84,
      "outputs": []
    },
    {
      "cell_type": "markdown",
      "source": [
        "Vamos verificar se as variáveis escolhidas não possuem mais os valores nulos iniciais."
      ],
      "metadata": {
        "id": "XEwY968fmPBa"
      }
    },
    {
      "cell_type": "code",
      "source": [
        "# verificar a quantidade de dados nulos\n",
        "base_credit_clean.isnull().sum()"
      ],
      "metadata": {
        "colab": {
          "base_uri": "https://localhost:8080/"
        },
        "id": "h9xoH8McmNrP",
        "outputId": "5902c013-8fd4-4d10-dcd6-95394e003fac"
      },
      "execution_count": 85,
      "outputs": [
        {
          "output_type": "execute_result",
          "data": {
            "text/plain": [
              "target_default                                      0\n",
              "score_1                                             0\n",
              "score_2                                             0\n",
              "score_3                                             0\n",
              "score_4                                             0\n",
              "score_5                                             0\n",
              "score_6                                             0\n",
              "risk_rate                                           0\n",
              "last_amount_borrowed                                0\n",
              "last_borrowed_in_months                             0\n",
              "credit_limit                                        0\n",
              "income                                              0\n",
              "facebook_profile                                    0\n",
              "state                                               0\n",
              "real_state                                          0\n",
              "ok_since                                            0\n",
              "n_bankruptcies                                      0\n",
              "n_defaulted_loans                                   0\n",
              "n_accounts                                          0\n",
              "n_issues                                            0\n",
              "application_time_in_funnel                          0\n",
              "external_data_provider_credit_checks_last_2_year    0\n",
              "external_data_provider_credit_checks_last_month     0\n",
              "external_data_provider_email_seen_before            0\n",
              "external_data_provider_fraud_score                  0\n",
              "reported_income                                     0\n",
              "shipping_state                                      0\n",
              "dtype: int64"
            ]
          },
          "metadata": {},
          "execution_count": 85
        }
      ]
    },
    {
      "cell_type": "markdown",
      "source": [
        "# **Análise dos Dados**"
      ],
      "metadata": {
        "id": "f6Mu2fxbwvt2"
      }
    },
    {
      "cell_type": "code",
      "metadata": {
        "id": "u-s-qiSONpMO",
        "outputId": "b95e764c-10c4-415d-c300-49ca4814f5dd",
        "colab": {
          "base_uri": "https://localhost:8080/",
          "height": 547
        }
      },
      "source": [
        "# Gráfico de Dispersão Crédito x Income\n",
        "# scatter plot\n",
        "fig, ax = plt.subplots(figsize=(10,6))\n",
        "\n",
        "ax.set_xlim(left=-1000,right=1400000)\n",
        "ax.set_ylim(bottom=-1000,top=500000)\n",
        "sns.regplot(x='income', y='credit_limit', scatter_kws={\"s\": 10},\n",
        "            line_kws={\"color\": \"red\"}, data=base_credit_clean, ax=ax);\n",
        "ax.set_ylabel('Limite de Crédito')\n",
        "ax.set_xlabel('Salário ou Pró-Labore')\n",
        "ax.plot()\n",
        "fig.savefig(\"Default-scatterplot.jpg\")"
      ],
      "execution_count": 86,
      "outputs": [
        {
          "output_type": "display_data",
          "data": {
            "text/plain": [
              "<Figure size 1000x600 with 1 Axes>"
            ],
            "image/png": "[encoded data removed]"
          },
          "metadata": {}
        }
      ]
    },
    {
      "cell_type": "code",
      "source": [
        "# Analisando quantitativo de inadimplentes\n",
        "\n",
        "fig, ax = plt.subplots()\n",
        "sns.countplot(x=base_credit_clean['target_default'])\n",
        "ax.set_title(\"Inadimplentes\")\n",
        "ax.set_xlabel(\"Valor\")\n",
        "ax.set_ylabel(\"Contagem\")\n",
        "plt.show()\n",
        "\n",
        "print(\"Proporção entre Inadimplentes no Dataset:\")\n",
        "print((base_credit_clean['target_default'].value_counts() / base_credit_clean.shape[0] )*100)"
      ],
      "metadata": {
        "colab": {
          "base_uri": "https://localhost:8080/",
          "height": 546
        },
        "id": "WJsUkMH2eIlD",
        "outputId": "71f0dac8-4f73-4d81-e058-9909be360f3d"
      },
      "execution_count": 87,
      "outputs": [
        {
          "output_type": "display_data",
          "data": {
            "text/plain": [
              "<Figure size 640x480 with 1 Axes>"
            ],
            "image/png": "[encoded data removed]"
          },
          "metadata": {}
        },
        {
          "output_type": "stream",
          "name": "stdout",
          "text": [
            "Proporção entre Inadimplentes no Dataset:\n",
            "False    84.042069\n",
            "True     15.957931\n",
            "Name: target_default, dtype: float64\n"
          ]
        }
      ]
    },
    {
      "cell_type": "code",
      "source": [
        "# Analisando Ocorrências de empréstimos por estado\n",
        "\n",
        "fig, ax = plt.subplots()\n",
        "sns.countplot(x=base_credit_clean['shipping_state'])\n",
        "fig.set_size_inches(25, 3)\n",
        "ax.set_title(\"Ocorrência de Empréstimo por Estado do Brasil\")\n",
        "ax.set_xlabel(\"Estados\")\n",
        "ax.set_ylabel(\"Contagem\")\n",
        "plt.show()\n",
        "\n",
        "#print(\"Proporção entre Inadimplentes no Dataset:\")\n",
        "#print((base_credit_clean.loc[base_credit_clean['target_default']==True].value_counts() / base_credit_clean.shape[0] )*100);"
      ],
      "metadata": {
        "colab": {
          "base_uri": "https://localhost:8080/",
          "height": 333
        },
        "id": "Gz-k0qdGJ-Lu",
        "outputId": "906101c3-60d0-4885-8884-20df4244daa9"
      },
      "execution_count": 88,
      "outputs": [
        {
          "output_type": "display_data",
          "data": {
            "text/plain": [
              "<Figure size 2500x300 with 1 Axes>"
            ],
            "image/png": "[encoded data removed]"
          },
          "metadata": {}
        }
      ]
    },
    {
      "cell_type": "code",
      "source": [
        "# Analise de correlação\n",
        "sns.heatmap(base_credit_clean[['risk_rate','credit_limit','income']].corr(),cmap='Blues', annot=True);"
      ],
      "metadata": {
        "colab": {
          "base_uri": "https://localhost:8080/",
          "height": 435
        },
        "id": "IVc7IDrlrDcf",
        "outputId": "415ec931-90c4-4793-80ff-3d70deea9599"
      },
      "execution_count": 107,
      "outputs": [
        {
          "output_type": "display_data",
          "data": {
            "text/plain": [
              "<Figure size 640x480 with 2 Axes>"
            ],
            "image/png": "[encoded data removed]"
          },
          "metadata": {}
        }
      ]
    },
    {
      "cell_type": "markdown",
      "source": [
        "# **Preparação dos Dados**\n",
        "Aplicando o Label Encoding, que irá substituir as nossas variáveis categóricas por valores."
      ],
      "metadata": {
        "id": "w_WA-5UlCMWI"
      }
    },
    {
      "cell_type": "code",
      "source": [
        "# importando a biblioteca para normalizar nossos dados\n",
        "from sklearn.preprocessing import StandardScaler"
      ],
      "metadata": {
        "id": "lO4eCjnwAfGo"
      },
      "execution_count": 90,
      "outputs": []
    },
    {
      "cell_type": "code",
      "source": [
        "# fazendo uma copia do nosso dataset já limpo para um novo dataset a ser normalizado\n",
        "scaled_df = base_credit_clean.copy()"
      ],
      "metadata": {
        "id": "jt3FHMK1Ai2r"
      },
      "execution_count": 91,
      "outputs": []
    },
    {
      "cell_type": "code",
      "source": [
        "# normalizando as colunas numéricas\n",
        "num_cols = scaled_df.drop('target_default',\n",
        "                         axis=1).select_dtypes(exclude='object').columns\n",
        "\n",
        "scaled_df[num_cols] = StandardScaler().fit_transform(scaled_df[num_cols].values)"
      ],
      "metadata": {
        "id": "rXhLTjosAwHp"
      },
      "execution_count": 92,
      "outputs": []
    },
    {
      "cell_type": "code",
      "source": [
        "scaled_df.head(5)"
      ],
      "metadata": {
        "colab": {
          "base_uri": "https://localhost:8080/",
          "height": 300
        },
        "id": "Xi71WYJpA5C9",
        "outputId": "9ae346f3-d19c-4b86-cd5e-d76b1fdff274"
      },
      "execution_count": 93,
      "outputs": [
        {
          "output_type": "execute_result",
          "data": {
            "text/plain": [
              "   target_default                   score_1                   score_2  \\\n",
              "0           False  1Rk8w4Ucd5yR3KcqZzLdow==  IOVu8au3ISbo6+zmfnYwMg==   \n",
              "1           False  DGCQep2AE5QRkNCshIAlFQ==  SaamrHMo23l/3TwXOWgVzw==   \n",
              "2            True  DGCQep2AE5QRkNCshIAlFQ==  Fv28Bz0YRTVAT5kl1bAV6g==   \n",
              "3           False  1Rk8w4Ucd5yR3KcqZzLdow==  dCm9hFKfdRm7ej3jW+gyxw==   \n",
              "4           False  8k8UDR4Yx0qasAjkGrUZLw==  +CxEO4w7jv3QPI/BQbyqAA==   \n",
              "\n",
              "    score_3   score_4   score_5   score_6  risk_rate  last_amount_borrowed  \\\n",
              "0  0.032154  0.563484 -0.832617  0.848870   1.039282              2.627224   \n",
              "1  0.213805 -0.924750  1.538588 -0.789902  -0.536149             -0.577743   \n",
              "2  0.122980  0.006361 -0.512003  1.294382  -0.043827              0.345051   \n",
              "3  1.485366  0.500243  1.694857 -0.500560   0.251567             -0.577743   \n",
              "4  1.394540 -0.481355  0.114978  1.816579  -1.126935             -0.577743   \n",
              "\n",
              "   last_borrowed_in_months  ...  n_defaulted_loans  n_accounts  n_issues  \\\n",
              "0                  1.11413  ...          -0.057693    1.604337  1.577495   \n",
              "1                 -0.68792  ...          -0.057693    0.732520  0.937596   \n",
              "2                  1.11413  ...          -0.057693   -0.139296 -1.302049   \n",
              "3                 -0.68792  ...          -0.057693    1.822291  1.737469   \n",
              "4                 -0.68792  ...          -0.057693    0.078658 -1.302049   \n",
              "\n",
              "  application_time_in_funnel external_data_provider_credit_checks_last_2_year  \\\n",
              "0                   1.341208                                              0.0   \n",
              "1                   0.671463                                              0.0   \n",
              "2                  -1.652141                                              0.0   \n",
              "3                   1.081511                                              0.0   \n",
              "4                  -0.052955                                              0.0   \n",
              "\n",
              "   external_data_provider_credit_checks_last_month  \\\n",
              "0                                         0.444809   \n",
              "1                                        -0.452701   \n",
              "2                                         0.444809   \n",
              "3                                         1.342319   \n",
              "4                                         0.444809   \n",
              "\n",
              "   external_data_provider_email_seen_before  \\\n",
              "0                                  1.322812   \n",
              "1                                 -0.635622   \n",
              "2                                 -1.096430   \n",
              "3                                  0.573999   \n",
              "4                                  1.034807   \n",
              "\n",
              "   external_data_provider_fraud_score  reported_income  shipping_state  \n",
              "0                            0.501783        -0.040691           BR-MT  \n",
              "1                           -0.894101        -0.040691           BR-RS  \n",
              "2                           -1.512178        -0.040691           BR-RR  \n",
              "3                            1.092082        -0.040691           BR-RN  \n",
              "4                           -0.626730        -0.040691           BR-MT  \n",
              "\n",
              "[5 rows x 27 columns]"
            ],
            "text/html": [
              "\n",
              "  <div id=\"df-78bb7617-c920-4983-8369-610e5a9553cf\">\n",
              "    <div class=\"colab-df-container\">\n",
              "      <div>\n",
              "<style scoped>\n",
              "    .dataframe tbody tr th:only-of-type {\n",
              "        vertical-align: middle;\n",
              "    }\n",
              "\n",
              "    .dataframe tbody tr th {\n",
              "        vertical-align: top;\n",
              "    }\n",
              "\n",
              "    .dataframe thead th {\n",
              "        text-align: right;\n",
              "    }\n",
              "</style>\n",
              "<table border=\"1\" class=\"dataframe\">\n",
              "  <thead>\n",
              "    <tr style=\"text-align: right;\">\n",
              "      <th></th>\n",
              "      <th>target_default</th>\n",
              "      <th>score_1</th>\n",
              "      <th>score_2</th>\n",
              "      <th>score_3</th>\n",
              "      <th>score_4</th>\n",
              "      <th>score_5</th>\n",
              "      <th>score_6</th>\n",
              "      <th>risk_rate</th>\n",
              "      <th>last_amount_borrowed</th>\n",
              "      <th>last_borrowed_in_months</th>\n",
              "      <th>...</th>\n",
              "      <th>n_defaulted_loans</th>\n",
              "      <th>n_accounts</th>\n",
              "      <th>n_issues</th>\n",
              "      <th>application_time_in_funnel</th>\n",
              "      <th>external_data_provider_credit_checks_last_2_year</th>\n",
              "      <th>external_data_provider_credit_checks_last_month</th>\n",
              "      <th>external_data_provider_email_seen_before</th>\n",
              "      <th>external_data_provider_fraud_score</th>\n",
              "      <th>reported_income</th>\n",
              "      <th>shipping_state</th>\n",
              "    </tr>\n",
              "  </thead>\n",
              "  <tbody>\n",
              "    <tr>\n",
              "      <th>0</th>\n",
              "      <td>False</td>\n",
              "      <td>1Rk8w4Ucd5yR3KcqZzLdow==</td>\n",
              "      <td>IOVu8au3ISbo6+zmfnYwMg==</td>\n",
              "      <td>0.032154</td>\n",
              "      <td>0.563484</td>\n",
              "      <td>-0.832617</td>\n",
              "      <td>0.848870</td>\n",
              "      <td>1.039282</td>\n",
              "      <td>2.627224</td>\n",
              "      <td>1.11413</td>\n",
              "      <td>...</td>\n",
              "      <td>-0.057693</td>\n",
              "      <td>1.604337</td>\n",
              "      <td>1.577495</td>\n",
              "      <td>1.341208</td>\n",
              "      <td>0.0</td>\n",
              "      <td>0.444809</td>\n",
              "      <td>1.322812</td>\n",
              "      <td>0.501783</td>\n",
              "      <td>-0.040691</td>\n",
              "      <td>BR-MT</td>\n",
              "    </tr>\n",
              "    <tr>\n",
              "      <th>1</th>\n",
              "      <td>False</td>\n",
              "      <td>DGCQep2AE5QRkNCshIAlFQ==</td>\n",
              "      <td>SaamrHMo23l/3TwXOWgVzw==</td>\n",
              "      <td>0.213805</td>\n",
              "      <td>-0.924750</td>\n",
              "      <td>1.538588</td>\n",
              "      <td>-0.789902</td>\n",
              "      <td>-0.536149</td>\n",
              "      <td>-0.577743</td>\n",
              "      <td>-0.68792</td>\n",
              "      <td>...</td>\n",
              "      <td>-0.057693</td>\n",
              "      <td>0.732520</td>\n",
              "      <td>0.937596</td>\n",
              "      <td>0.671463</td>\n",
              "      <td>0.0</td>\n",
              "      <td>-0.452701</td>\n",
              "      <td>-0.635622</td>\n",
              "      <td>-0.894101</td>\n",
              "      <td>-0.040691</td>\n",
              "      <td>BR-RS</td>\n",
              "    </tr>\n",
              "    <tr>\n",
              "      <th>2</th>\n",
              "      <td>True</td>\n",
              "      <td>DGCQep2AE5QRkNCshIAlFQ==</td>\n",
              "      <td>Fv28Bz0YRTVAT5kl1bAV6g==</td>\n",
              "      <td>0.122980</td>\n",
              "      <td>0.006361</td>\n",
              "      <td>-0.512003</td>\n",
              "      <td>1.294382</td>\n",
              "      <td>-0.043827</td>\n",
              "      <td>0.345051</td>\n",
              "      <td>1.11413</td>\n",
              "      <td>...</td>\n",
              "      <td>-0.057693</td>\n",
              "      <td>-0.139296</td>\n",
              "      <td>-1.302049</td>\n",
              "      <td>-1.652141</td>\n",
              "      <td>0.0</td>\n",
              "      <td>0.444809</td>\n",
              "      <td>-1.096430</td>\n",
              "      <td>-1.512178</td>\n",
              "      <td>-0.040691</td>\n",
              "      <td>BR-RR</td>\n",
              "    </tr>\n",
              "    <tr>\n",
              "      <th>3</th>\n",
              "      <td>False</td>\n",
              "      <td>1Rk8w4Ucd5yR3KcqZzLdow==</td>\n",
              "      <td>dCm9hFKfdRm7ej3jW+gyxw==</td>\n",
              "      <td>1.485366</td>\n",
              "      <td>0.500243</td>\n",
              "      <td>1.694857</td>\n",
              "      <td>-0.500560</td>\n",
              "      <td>0.251567</td>\n",
              "      <td>-0.577743</td>\n",
              "      <td>-0.68792</td>\n",
              "      <td>...</td>\n",
              "      <td>-0.057693</td>\n",
              "      <td>1.822291</td>\n",
              "      <td>1.737469</td>\n",
              "      <td>1.081511</td>\n",
              "      <td>0.0</td>\n",
              "      <td>1.342319</td>\n",
              "      <td>0.573999</td>\n",
              "      <td>1.092082</td>\n",
              "      <td>-0.040691</td>\n",
              "      <td>BR-RN</td>\n",
              "    </tr>\n",
              "    <tr>\n",
              "      <th>4</th>\n",
              "      <td>False</td>\n",
              "      <td>8k8UDR4Yx0qasAjkGrUZLw==</td>\n",
              "      <td>+CxEO4w7jv3QPI/BQbyqAA==</td>\n",
              "      <td>1.394540</td>\n",
              "      <td>-0.481355</td>\n",
              "      <td>0.114978</td>\n",
              "      <td>1.816579</td>\n",
              "      <td>-1.126935</td>\n",
              "      <td>-0.577743</td>\n",
              "      <td>-0.68792</td>\n",
              "      <td>...</td>\n",
              "      <td>-0.057693</td>\n",
              "      <td>0.078658</td>\n",
              "      <td>-1.302049</td>\n",
              "      <td>-0.052955</td>\n",
              "      <td>0.0</td>\n",
              "      <td>0.444809</td>\n",
              "      <td>1.034807</td>\n",
              "      <td>-0.626730</td>\n",
              "      <td>-0.040691</td>\n",
              "      <td>BR-MT</td>\n",
              "    </tr>\n",
              "  </tbody>\n",
              "</table>\n",
              "<p>5 rows × 27 columns</p>\n",
              "</div>\n",
              "      <button class=\"colab-df-convert\" onclick=\"convertToInteractive('df-78bb7617-c920-4983-8369-610e5a9553cf')\"\n",
              "              title=\"Convert this dataframe to an interactive table.\"\n",
              "              style=\"display:none;\">\n",
              "        \n",
              "  <svg xmlns=\"http://www.w3.org/2000/svg\" height=\"24px\"viewBox=\"0 0 24 24\"\n",
              "       width=\"24px\">\n",
              "    <path d=\"M0 0h24v24H0V0z\" fill=\"none\"/>\n",
              "    <path d=\"M18.56 5.44l.94 2.06.94-2.06 2.06-.94-2.06-.94-.94-2.06-.94 2.06-2.06.94zm-11 1L8.5 8.5l.94-2.06 2.06-.94-2.06-.94L8.5 2.5l-.94 2.06-2.06.94zm10 10l.94 2.06.94-2.06 2.06-.94-2.06-.94-.94-2.06-.94 2.06-2.06.94z\"/><path d=\"M17.41 7.96l-1.37-1.37c-.4-.4-.92-.59-1.43-.59-.52 0-1.04.2-1.43.59L10.3 9.45l-7.72 7.72c-.78.78-.78 2.05 0 2.83L4 21.41c.39.39.9.59 1.41.59.51 0 1.02-.2 1.41-.59l7.78-7.78 2.81-2.81c.8-.78.8-2.07 0-2.86zM5.41 20L4 18.59l7.72-7.72 1.47 1.35L5.41 20z\"/>\n",
              "  </svg>\n",
              "      </button>\n",
              "      \n",
              "  <style>\n",
              "    .colab-df-container {\n",
              "      display:flex;\n",
              "      flex-wrap:wrap;\n",
              "      gap: 12px;\n",
              "    }\n",
              "\n",
              "    .colab-df-convert {\n",
              "      background-color: #E8F0FE;\n",
              "      border: none;\n",
              "      border-radius: 50%;\n",
              "      cursor: pointer;\n",
              "      display: none;\n",
              "      fill: #1967D2;\n",
              "      height: 32px;\n",
              "      padding: 0 0 0 0;\n",
              "      width: 32px;\n",
              "    }\n",
              "\n",
              "    .colab-df-convert:hover {\n",
              "      background-color: #E2EBFA;\n",
              "      box-shadow: 0px 1px 2px rgba(60, 64, 67, 0.3), 0px 1px 3px 1px rgba(60, 64, 67, 0.15);\n",
              "      fill: #174EA6;\n",
              "    }\n",
              "\n",
              "    [theme=dark] .colab-df-convert {\n",
              "      background-color: #3B4455;\n",
              "      fill: #D2E3FC;\n",
              "    }\n",
              "\n",
              "    [theme=dark] .colab-df-convert:hover {\n",
              "      background-color: #434B5C;\n",
              "      box-shadow: 0px 1px 3px 1px rgba(0, 0, 0, 0.15);\n",
              "      filter: drop-shadow(0px 1px 2px rgba(0, 0, 0, 0.3));\n",
              "      fill: #FFFFFF;\n",
              "    }\n",
              "  </style>\n",
              "\n",
              "      <script>\n",
              "        const buttonEl =\n",
              "          document.querySelector('#df-78bb7617-c920-4983-8369-610e5a9553cf button.colab-df-convert');\n",
              "        buttonEl.style.display =\n",
              "          google.colab.kernel.accessAllowed ? 'block' : 'none';\n",
              "\n",
              "        async function convertToInteractive(key) {\n",
              "          const element = document.querySelector('#df-78bb7617-c920-4983-8369-610e5a9553cf');\n",
              "          const dataTable =\n",
              "            await google.colab.kernel.invokeFunction('convertToInteractive',\n",
              "                                                     [key], {});\n",
              "          if (!dataTable) return;\n",
              "\n",
              "          const docLinkHtml = 'Like what you see? Visit the ' +\n",
              "            '<a target=\"_blank\" href=https://colab.research.google.com/notebooks/data_table.ipynb>data table notebook</a>'\n",
              "            + ' to learn more about interactive tables.';\n",
              "          element.innerHTML = '';\n",
              "          dataTable['output_type'] = 'display_data';\n",
              "          await google.colab.output.renderOutput(dataTable, element);\n",
              "          const docLink = document.createElement('div');\n",
              "          docLink.innerHTML = docLinkHtml;\n",
              "          element.appendChild(docLink);\n",
              "        }\n",
              "      </script>\n",
              "    </div>\n",
              "  </div>\n",
              "  "
            ]
          },
          "metadata": {},
          "execution_count": 93
        }
      ]
    },
    {
      "cell_type": "code",
      "source": [
        "# importando a biblioteca necessária para rotular nossas ocorrencias\n",
        "from sklearn.preprocessing import LabelEncoder"
      ],
      "metadata": {
        "id": "-hiaxGbhCa5r"
      },
      "execution_count": 94,
      "outputs": []
    },
    {
      "cell_type": "code",
      "source": [
        "# gerando uma cópia de nosso dataset para um novo que vamos rotular (Label Encoding)\n",
        "encoded_df = scaled_df.copy()"
      ],
      "metadata": {
        "id": "COFQ3rspCehs"
      },
      "execution_count": 95,
      "outputs": []
    },
    {
      "cell_type": "code",
      "source": [
        "# extrair as colunas categóricas e colocando numa variável\n",
        "cat_cols = encoded_df.select_dtypes('object').columns"
      ],
      "metadata": {
        "id": "uzLG04OZCjuS"
      },
      "execution_count": 96,
      "outputs": []
    },
    {
      "cell_type": "code",
      "source": [
        "# codificando cada coluna categórica\n",
        "for col in cat_cols:\n",
        "  encoded_df[col+'_encoded'] = LabelEncoder().fit_transform(encoded_df[col])\n",
        "  encoded_df.drop(col, axis=1, inplace=True)"
      ],
      "metadata": {
        "id": "NrNc4aQnCnKw"
      },
      "execution_count": 97,
      "outputs": []
    },
    {
      "cell_type": "code",
      "source": [
        "# verificando nossos dados\n",
        "encoded_df.head(5)"
      ],
      "metadata": {
        "colab": {
          "base_uri": "https://localhost:8080/",
          "height": 300
        },
        "id": "9O4-34hlCqNm",
        "outputId": "90d3b2e2-5413-40b6-be91-364077d08d55"
      },
      "execution_count": 98,
      "outputs": [
        {
          "output_type": "execute_result",
          "data": {
            "text/plain": [
              "   target_default   score_3   score_4   score_5   score_6  risk_rate  \\\n",
              "0           False  0.032154  0.563484 -0.832617  0.848870   1.039282   \n",
              "1           False  0.213805 -0.924750  1.538588 -0.789902  -0.536149   \n",
              "2            True  0.122980  0.006361 -0.512003  1.294382  -0.043827   \n",
              "3           False  1.485366  0.500243  1.694857 -0.500560   0.251567   \n",
              "4           False  1.394540 -0.481355  0.114978  1.816579  -1.126935   \n",
              "\n",
              "   last_amount_borrowed  last_borrowed_in_months  credit_limit    income  ...  \\\n",
              "0              2.627224                  1.11413     -1.031599 -0.116075  ...   \n",
              "1             -0.577743                 -0.68792      0.283752  0.553756  ...   \n",
              "2              0.345051                  1.11413     -0.196782 -0.115893  ...   \n",
              "3             -0.577743                 -0.68792      0.775941 -0.043057  ...   \n",
              "4             -0.577743                 -0.68792     -0.196782 -0.211806  ...   \n",
              "\n",
              "   external_data_provider_credit_checks_last_2_year  \\\n",
              "0                                               0.0   \n",
              "1                                               0.0   \n",
              "2                                               0.0   \n",
              "3                                               0.0   \n",
              "4                                               0.0   \n",
              "\n",
              "   external_data_provider_credit_checks_last_month  \\\n",
              "0                                         0.444809   \n",
              "1                                        -0.452701   \n",
              "2                                         0.444809   \n",
              "3                                         1.342319   \n",
              "4                                         0.444809   \n",
              "\n",
              "   external_data_provider_email_seen_before  \\\n",
              "0                                  1.322812   \n",
              "1                                 -0.635622   \n",
              "2                                 -1.096430   \n",
              "3                                  0.573999   \n",
              "4                                  1.034807   \n",
              "\n",
              "   external_data_provider_fraud_score  reported_income  score_1_encoded  \\\n",
              "0                            0.501783        -0.040691                0   \n",
              "1                           -0.894101        -0.040691                3   \n",
              "2                           -1.512178        -0.040691                3   \n",
              "3                            1.092082        -0.040691                0   \n",
              "4                           -0.626730        -0.040691                2   \n",
              "\n",
              "   score_2_encoded  state_encoded  real_state_encoded  shipping_state_encoded  \n",
              "0               10             44                   1                      12  \n",
              "1               16             47                   1                      20  \n",
              "2                9             32                   3                      19  \n",
              "3               21             23                   3                      17  \n",
              "4                1             47                   3                      12  \n",
              "\n",
              "[5 rows x 27 columns]"
            ],
            "text/html": [
              "\n",
              "  <div id=\"df-925a9aee-21f1-49b4-ae64-72b1d8fc5d21\">\n",
              "    <div class=\"colab-df-container\">\n",
              "      <div>\n",
              "<style scoped>\n",
              "    .dataframe tbody tr th:only-of-type {\n",
              "        vertical-align: middle;\n",
              "    }\n",
              "\n",
              "    .dataframe tbody tr th {\n",
              "        vertical-align: top;\n",
              "    }\n",
              "\n",
              "    .dataframe thead th {\n",
              "        text-align: right;\n",
              "    }\n",
              "</style>\n",
              "<table border=\"1\" class=\"dataframe\">\n",
              "  <thead>\n",
              "    <tr style=\"text-align: right;\">\n",
              "      <th></th>\n",
              "      <th>target_default</th>\n",
              "      <th>score_3</th>\n",
              "      <th>score_4</th>\n",
              "      <th>score_5</th>\n",
              "      <th>score_6</th>\n",
              "      <th>risk_rate</th>\n",
              "      <th>last_amount_borrowed</th>\n",
              "      <th>last_borrowed_in_months</th>\n",
              "      <th>credit_limit</th>\n",
              "      <th>income</th>\n",
              "      <th>...</th>\n",
              "      <th>external_data_provider_credit_checks_last_2_year</th>\n",
              "      <th>external_data_provider_credit_checks_last_month</th>\n",
              "      <th>external_data_provider_email_seen_before</th>\n",
              "      <th>external_data_provider_fraud_score</th>\n",
              "      <th>reported_income</th>\n",
              "      <th>score_1_encoded</th>\n",
              "      <th>score_2_encoded</th>\n",
              "      <th>state_encoded</th>\n",
              "      <th>real_state_encoded</th>\n",
              "      <th>shipping_state_encoded</th>\n",
              "    </tr>\n",
              "  </thead>\n",
              "  <tbody>\n",
              "    <tr>\n",
              "      <th>0</th>\n",
              "      <td>False</td>\n",
              "      <td>0.032154</td>\n",
              "      <td>0.563484</td>\n",
              "      <td>-0.832617</td>\n",
              "      <td>0.848870</td>\n",
              "      <td>1.039282</td>\n",
              "      <td>2.627224</td>\n",
              "      <td>1.11413</td>\n",
              "      <td>-1.031599</td>\n",
              "      <td>-0.116075</td>\n",
              "      <td>...</td>\n",
              "      <td>0.0</td>\n",
              "      <td>0.444809</td>\n",
              "      <td>1.322812</td>\n",
              "      <td>0.501783</td>\n",
              "      <td>-0.040691</td>\n",
              "      <td>0</td>\n",
              "      <td>10</td>\n",
              "      <td>44</td>\n",
              "      <td>1</td>\n",
              "      <td>12</td>\n",
              "    </tr>\n",
              "    <tr>\n",
              "      <th>1</th>\n",
              "      <td>False</td>\n",
              "      <td>0.213805</td>\n",
              "      <td>-0.924750</td>\n",
              "      <td>1.538588</td>\n",
              "      <td>-0.789902</td>\n",
              "      <td>-0.536149</td>\n",
              "      <td>-0.577743</td>\n",
              "      <td>-0.68792</td>\n",
              "      <td>0.283752</td>\n",
              "      <td>0.553756</td>\n",
              "      <td>...</td>\n",
              "      <td>0.0</td>\n",
              "      <td>-0.452701</td>\n",
              "      <td>-0.635622</td>\n",
              "      <td>-0.894101</td>\n",
              "      <td>-0.040691</td>\n",
              "      <td>3</td>\n",
              "      <td>16</td>\n",
              "      <td>47</td>\n",
              "      <td>1</td>\n",
              "      <td>20</td>\n",
              "    </tr>\n",
              "    <tr>\n",
              "      <th>2</th>\n",
              "      <td>True</td>\n",
              "      <td>0.122980</td>\n",
              "      <td>0.006361</td>\n",
              "      <td>-0.512003</td>\n",
              "      <td>1.294382</td>\n",
              "      <td>-0.043827</td>\n",
              "      <td>0.345051</td>\n",
              "      <td>1.11413</td>\n",
              "      <td>-0.196782</td>\n",
              "      <td>-0.115893</td>\n",
              "      <td>...</td>\n",
              "      <td>0.0</td>\n",
              "      <td>0.444809</td>\n",
              "      <td>-1.096430</td>\n",
              "      <td>-1.512178</td>\n",
              "      <td>-0.040691</td>\n",
              "      <td>3</td>\n",
              "      <td>9</td>\n",
              "      <td>32</td>\n",
              "      <td>3</td>\n",
              "      <td>19</td>\n",
              "    </tr>\n",
              "    <tr>\n",
              "      <th>3</th>\n",
              "      <td>False</td>\n",
              "      <td>1.485366</td>\n",
              "      <td>0.500243</td>\n",
              "      <td>1.694857</td>\n",
              "      <td>-0.500560</td>\n",
              "      <td>0.251567</td>\n",
              "      <td>-0.577743</td>\n",
              "      <td>-0.68792</td>\n",
              "      <td>0.775941</td>\n",
              "      <td>-0.043057</td>\n",
              "      <td>...</td>\n",
              "      <td>0.0</td>\n",
              "      <td>1.342319</td>\n",
              "      <td>0.573999</td>\n",
              "      <td>1.092082</td>\n",
              "      <td>-0.040691</td>\n",
              "      <td>0</td>\n",
              "      <td>21</td>\n",
              "      <td>23</td>\n",
              "      <td>3</td>\n",
              "      <td>17</td>\n",
              "    </tr>\n",
              "    <tr>\n",
              "      <th>4</th>\n",
              "      <td>False</td>\n",
              "      <td>1.394540</td>\n",
              "      <td>-0.481355</td>\n",
              "      <td>0.114978</td>\n",
              "      <td>1.816579</td>\n",
              "      <td>-1.126935</td>\n",
              "      <td>-0.577743</td>\n",
              "      <td>-0.68792</td>\n",
              "      <td>-0.196782</td>\n",
              "      <td>-0.211806</td>\n",
              "      <td>...</td>\n",
              "      <td>0.0</td>\n",
              "      <td>0.444809</td>\n",
              "      <td>1.034807</td>\n",
              "      <td>-0.626730</td>\n",
              "      <td>-0.040691</td>\n",
              "      <td>2</td>\n",
              "      <td>1</td>\n",
              "      <td>47</td>\n",
              "      <td>3</td>\n",
              "      <td>12</td>\n",
              "    </tr>\n",
              "  </tbody>\n",
              "</table>\n",
              "<p>5 rows × 27 columns</p>\n",
              "</div>\n",
              "      <button class=\"colab-df-convert\" onclick=\"convertToInteractive('df-925a9aee-21f1-49b4-ae64-72b1d8fc5d21')\"\n",
              "              title=\"Convert this dataframe to an interactive table.\"\n",
              "              style=\"display:none;\">\n",
              "        \n",
              "  <svg xmlns=\"http://www.w3.org/2000/svg\" height=\"24px\"viewBox=\"0 0 24 24\"\n",
              "       width=\"24px\">\n",
              "    <path d=\"M0 0h24v24H0V0z\" fill=\"none\"/>\n",
              "    <path d=\"M18.56 5.44l.94 2.06.94-2.06 2.06-.94-2.06-.94-.94-2.06-.94 2.06-2.06.94zm-11 1L8.5 8.5l.94-2.06 2.06-.94-2.06-.94L8.5 2.5l-.94 2.06-2.06.94zm10 10l.94 2.06.94-2.06 2.06-.94-2.06-.94-.94-2.06-.94 2.06-2.06.94z\"/><path d=\"M17.41 7.96l-1.37-1.37c-.4-.4-.92-.59-1.43-.59-.52 0-1.04.2-1.43.59L10.3 9.45l-7.72 7.72c-.78.78-.78 2.05 0 2.83L4 21.41c.39.39.9.59 1.41.59.51 0 1.02-.2 1.41-.59l7.78-7.78 2.81-2.81c.8-.78.8-2.07 0-2.86zM5.41 20L4 18.59l7.72-7.72 1.47 1.35L5.41 20z\"/>\n",
              "  </svg>\n",
              "      </button>\n",
              "      \n",
              "  <style>\n",
              "    .colab-df-container {\n",
              "      display:flex;\n",
              "      flex-wrap:wrap;\n",
              "      gap: 12px;\n",
              "    }\n",
              "\n",
              "    .colab-df-convert {\n",
              "      background-color: #E8F0FE;\n",
              "      border: none;\n",
              "      border-radius: 50%;\n",
              "      cursor: pointer;\n",
              "      display: none;\n",
              "      fill: #1967D2;\n",
              "      height: 32px;\n",
              "      padding: 0 0 0 0;\n",
              "      width: 32px;\n",
              "    }\n",
              "\n",
              "    .colab-df-convert:hover {\n",
              "      background-color: #E2EBFA;\n",
              "      box-shadow: 0px 1px 2px rgba(60, 64, 67, 0.3), 0px 1px 3px 1px rgba(60, 64, 67, 0.15);\n",
              "      fill: #174EA6;\n",
              "    }\n",
              "\n",
              "    [theme=dark] .colab-df-convert {\n",
              "      background-color: #3B4455;\n",
              "      fill: #D2E3FC;\n",
              "    }\n",
              "\n",
              "    [theme=dark] .colab-df-convert:hover {\n",
              "      background-color: #434B5C;\n",
              "      box-shadow: 0px 1px 3px 1px rgba(0, 0, 0, 0.15);\n",
              "      filter: drop-shadow(0px 1px 2px rgba(0, 0, 0, 0.3));\n",
              "      fill: #FFFFFF;\n",
              "    }\n",
              "  </style>\n",
              "\n",
              "      <script>\n",
              "        const buttonEl =\n",
              "          document.querySelector('#df-925a9aee-21f1-49b4-ae64-72b1d8fc5d21 button.colab-df-convert');\n",
              "        buttonEl.style.display =\n",
              "          google.colab.kernel.accessAllowed ? 'block' : 'none';\n",
              "\n",
              "        async function convertToInteractive(key) {\n",
              "          const element = document.querySelector('#df-925a9aee-21f1-49b4-ae64-72b1d8fc5d21');\n",
              "          const dataTable =\n",
              "            await google.colab.kernel.invokeFunction('convertToInteractive',\n",
              "                                                     [key], {});\n",
              "          if (!dataTable) return;\n",
              "\n",
              "          const docLinkHtml = 'Like what you see? Visit the ' +\n",
              "            '<a target=\"_blank\" href=https://colab.research.google.com/notebooks/data_table.ipynb>data table notebook</a>'\n",
              "            + ' to learn more about interactive tables.';\n",
              "          element.innerHTML = '';\n",
              "          dataTable['output_type'] = 'display_data';\n",
              "          await google.colab.output.renderOutput(dataTable, element);\n",
              "          const docLink = document.createElement('div');\n",
              "          docLink.innerHTML = docLinkHtml;\n",
              "          element.appendChild(docLink);\n",
              "        }\n",
              "      </script>\n",
              "    </div>\n",
              "  </div>\n",
              "  "
            ]
          },
          "metadata": {},
          "execution_count": 98
        }
      ]
    },
    {
      "cell_type": "markdown",
      "source": [
        "Antes de iniciarmos nossos modelos de Machine Learning vamos plotar e verificar a correlação entre as variáveis, se nos trazem mais algum insight sobre os dados, porém precisamos ajustar nosso dataset para as mesmas condições de treino e testes (normalizado e codificado)."
      ],
      "metadata": {
        "id": "gk18841OoS1e"
      }
    },
    {
      "cell_type": "markdown",
      "source": [
        "# **Criando Modelo de Machine Learning**\n",
        "Separando a variável alvo das demais e dividir o dataset entre dados de treino e teste com a função train_test_split."
      ],
      "metadata": {
        "id": "aO_ba9JUBcb0"
      }
    },
    {
      "cell_type": "code",
      "source": [
        "# separando as variáveis independentes da variável alvo\n",
        "# X todas as colunas sem a coluna 'target_default\n",
        "# y apenas a coluna 'target_default\n",
        "\n",
        "X = encoded_df.drop('target_default', axis=1).select_dtypes(exclude='object')\n",
        "y = encoded_df['target_default']"
      ],
      "metadata": {
        "id": "oQBDOMtBB52b"
      },
      "execution_count": 99,
      "outputs": []
    },
    {
      "cell_type": "code",
      "source": [
        "# nossos dados após o split\n",
        "X.head()"
      ],
      "metadata": {
        "colab": {
          "base_uri": "https://localhost:8080/",
          "height": 300
        },
        "id": "PeqGTG7-C85E",
        "outputId": "afdc46d3-fcee-4df8-b14e-333dde048bb7"
      },
      "execution_count": 100,
      "outputs": [
        {
          "output_type": "execute_result",
          "data": {
            "text/plain": [
              "    score_3   score_4   score_5   score_6  risk_rate  last_amount_borrowed  \\\n",
              "0  0.032154  0.563484 -0.832617  0.848870   1.039282              2.627224   \n",
              "1  0.213805 -0.924750  1.538588 -0.789902  -0.536149             -0.577743   \n",
              "2  0.122980  0.006361 -0.512003  1.294382  -0.043827              0.345051   \n",
              "3  1.485366  0.500243  1.694857 -0.500560   0.251567             -0.577743   \n",
              "4  1.394540 -0.481355  0.114978  1.816579  -1.126935             -0.577743   \n",
              "\n",
              "   last_borrowed_in_months  credit_limit    income  facebook_profile  ...  \\\n",
              "0                  1.11413     -1.031599 -0.116075          1.412589  ...   \n",
              "1                 -0.68792      0.283752  0.553756         -0.707920  ...   \n",
              "2                  1.11413     -0.196782 -0.115893         -0.707920  ...   \n",
              "3                 -0.68792      0.775941 -0.043057         -0.707920  ...   \n",
              "4                 -0.68792     -0.196782 -0.211806          1.412589  ...   \n",
              "\n",
              "   external_data_provider_credit_checks_last_2_year  \\\n",
              "0                                               0.0   \n",
              "1                                               0.0   \n",
              "2                                               0.0   \n",
              "3                                               0.0   \n",
              "4                                               0.0   \n",
              "\n",
              "   external_data_provider_credit_checks_last_month  \\\n",
              "0                                         0.444809   \n",
              "1                                        -0.452701   \n",
              "2                                         0.444809   \n",
              "3                                         1.342319   \n",
              "4                                         0.444809   \n",
              "\n",
              "   external_data_provider_email_seen_before  \\\n",
              "0                                  1.322812   \n",
              "1                                 -0.635622   \n",
              "2                                 -1.096430   \n",
              "3                                  0.573999   \n",
              "4                                  1.034807   \n",
              "\n",
              "   external_data_provider_fraud_score  reported_income  score_1_encoded  \\\n",
              "0                            0.501783        -0.040691                0   \n",
              "1                           -0.894101        -0.040691                3   \n",
              "2                           -1.512178        -0.040691                3   \n",
              "3                            1.092082        -0.040691                0   \n",
              "4                           -0.626730        -0.040691                2   \n",
              "\n",
              "   score_2_encoded  state_encoded  real_state_encoded  shipping_state_encoded  \n",
              "0               10             44                   1                      12  \n",
              "1               16             47                   1                      20  \n",
              "2                9             32                   3                      19  \n",
              "3               21             23                   3                      17  \n",
              "4                1             47                   3                      12  \n",
              "\n",
              "[5 rows x 26 columns]"
            ],
            "text/html": [
              "\n",
              "  <div id=\"df-07254342-73d0-4567-937a-79d19ed90e19\">\n",
              "    <div class=\"colab-df-container\">\n",
              "      <div>\n",
              "<style scoped>\n",
              "    .dataframe tbody tr th:only-of-type {\n",
              "        vertical-align: middle;\n",
              "    }\n",
              "\n",
              "    .dataframe tbody tr th {\n",
              "        vertical-align: top;\n",
              "    }\n",
              "\n",
              "    .dataframe thead th {\n",
              "        text-align: right;\n",
              "    }\n",
              "</style>\n",
              "<table border=\"1\" class=\"dataframe\">\n",
              "  <thead>\n",
              "    <tr style=\"text-align: right;\">\n",
              "      <th></th>\n",
              "      <th>score_3</th>\n",
              "      <th>score_4</th>\n",
              "      <th>score_5</th>\n",
              "      <th>score_6</th>\n",
              "      <th>risk_rate</th>\n",
              "      <th>last_amount_borrowed</th>\n",
              "      <th>last_borrowed_in_months</th>\n",
              "      <th>credit_limit</th>\n",
              "      <th>income</th>\n",
              "      <th>facebook_profile</th>\n",
              "      <th>...</th>\n",
              "      <th>external_data_provider_credit_checks_last_2_year</th>\n",
              "      <th>external_data_provider_credit_checks_last_month</th>\n",
              "      <th>external_data_provider_email_seen_before</th>\n",
              "      <th>external_data_provider_fraud_score</th>\n",
              "      <th>reported_income</th>\n",
              "      <th>score_1_encoded</th>\n",
              "      <th>score_2_encoded</th>\n",
              "      <th>state_encoded</th>\n",
              "      <th>real_state_encoded</th>\n",
              "      <th>shipping_state_encoded</th>\n",
              "    </tr>\n",
              "  </thead>\n",
              "  <tbody>\n",
              "    <tr>\n",
              "      <th>0</th>\n",
              "      <td>0.032154</td>\n",
              "      <td>0.563484</td>\n",
              "      <td>-0.832617</td>\n",
              "      <td>0.848870</td>\n",
              "      <td>1.039282</td>\n",
              "      <td>2.627224</td>\n",
              "      <td>1.11413</td>\n",
              "      <td>-1.031599</td>\n",
              "      <td>-0.116075</td>\n",
              "      <td>1.412589</td>\n",
              "      <td>...</td>\n",
              "      <td>0.0</td>\n",
              "      <td>0.444809</td>\n",
              "      <td>1.322812</td>\n",
              "      <td>0.501783</td>\n",
              "      <td>-0.040691</td>\n",
              "      <td>0</td>\n",
              "      <td>10</td>\n",
              "      <td>44</td>\n",
              "      <td>1</td>\n",
              "      <td>12</td>\n",
              "    </tr>\n",
              "    <tr>\n",
              "      <th>1</th>\n",
              "      <td>0.213805</td>\n",
              "      <td>-0.924750</td>\n",
              "      <td>1.538588</td>\n",
              "      <td>-0.789902</td>\n",
              "      <td>-0.536149</td>\n",
              "      <td>-0.577743</td>\n",
              "      <td>-0.68792</td>\n",
              "      <td>0.283752</td>\n",
              "      <td>0.553756</td>\n",
              "      <td>-0.707920</td>\n",
              "      <td>...</td>\n",
              "      <td>0.0</td>\n",
              "      <td>-0.452701</td>\n",
              "      <td>-0.635622</td>\n",
              "      <td>-0.894101</td>\n",
              "      <td>-0.040691</td>\n",
              "      <td>3</td>\n",
              "      <td>16</td>\n",
              "      <td>47</td>\n",
              "      <td>1</td>\n",
              "      <td>20</td>\n",
              "    </tr>\n",
              "    <tr>\n",
              "      <th>2</th>\n",
              "      <td>0.122980</td>\n",
              "      <td>0.006361</td>\n",
              "      <td>-0.512003</td>\n",
              "      <td>1.294382</td>\n",
              "      <td>-0.043827</td>\n",
              "      <td>0.345051</td>\n",
              "      <td>1.11413</td>\n",
              "      <td>-0.196782</td>\n",
              "      <td>-0.115893</td>\n",
              "      <td>-0.707920</td>\n",
              "      <td>...</td>\n",
              "      <td>0.0</td>\n",
              "      <td>0.444809</td>\n",
              "      <td>-1.096430</td>\n",
              "      <td>-1.512178</td>\n",
              "      <td>-0.040691</td>\n",
              "      <td>3</td>\n",
              "      <td>9</td>\n",
              "      <td>32</td>\n",
              "      <td>3</td>\n",
              "      <td>19</td>\n",
              "    </tr>\n",
              "    <tr>\n",
              "      <th>3</th>\n",
              "      <td>1.485366</td>\n",
              "      <td>0.500243</td>\n",
              "      <td>1.694857</td>\n",
              "      <td>-0.500560</td>\n",
              "      <td>0.251567</td>\n",
              "      <td>-0.577743</td>\n",
              "      <td>-0.68792</td>\n",
              "      <td>0.775941</td>\n",
              "      <td>-0.043057</td>\n",
              "      <td>-0.707920</td>\n",
              "      <td>...</td>\n",
              "      <td>0.0</td>\n",
              "      <td>1.342319</td>\n",
              "      <td>0.573999</td>\n",
              "      <td>1.092082</td>\n",
              "      <td>-0.040691</td>\n",
              "      <td>0</td>\n",
              "      <td>21</td>\n",
              "      <td>23</td>\n",
              "      <td>3</td>\n",
              "      <td>17</td>\n",
              "    </tr>\n",
              "    <tr>\n",
              "      <th>4</th>\n",
              "      <td>1.394540</td>\n",
              "      <td>-0.481355</td>\n",
              "      <td>0.114978</td>\n",
              "      <td>1.816579</td>\n",
              "      <td>-1.126935</td>\n",
              "      <td>-0.577743</td>\n",
              "      <td>-0.68792</td>\n",
              "      <td>-0.196782</td>\n",
              "      <td>-0.211806</td>\n",
              "      <td>1.412589</td>\n",
              "      <td>...</td>\n",
              "      <td>0.0</td>\n",
              "      <td>0.444809</td>\n",
              "      <td>1.034807</td>\n",
              "      <td>-0.626730</td>\n",
              "      <td>-0.040691</td>\n",
              "      <td>2</td>\n",
              "      <td>1</td>\n",
              "      <td>47</td>\n",
              "      <td>3</td>\n",
              "      <td>12</td>\n",
              "    </tr>\n",
              "  </tbody>\n",
              "</table>\n",
              "<p>5 rows × 26 columns</p>\n",
              "</div>\n",
              "      <button class=\"colab-df-convert\" onclick=\"convertToInteractive('df-07254342-73d0-4567-937a-79d19ed90e19')\"\n",
              "              title=\"Convert this dataframe to an interactive table.\"\n",
              "              style=\"display:none;\">\n",
              "        \n",
              "  <svg xmlns=\"http://www.w3.org/2000/svg\" height=\"24px\"viewBox=\"0 0 24 24\"\n",
              "       width=\"24px\">\n",
              "    <path d=\"M0 0h24v24H0V0z\" fill=\"none\"/>\n",
              "    <path d=\"M18.56 5.44l.94 2.06.94-2.06 2.06-.94-2.06-.94-.94-2.06-.94 2.06-2.06.94zm-11 1L8.5 8.5l.94-2.06 2.06-.94-2.06-.94L8.5 2.5l-.94 2.06-2.06.94zm10 10l.94 2.06.94-2.06 2.06-.94-2.06-.94-.94-2.06-.94 2.06-2.06.94z\"/><path d=\"M17.41 7.96l-1.37-1.37c-.4-.4-.92-.59-1.43-.59-.52 0-1.04.2-1.43.59L10.3 9.45l-7.72 7.72c-.78.78-.78 2.05 0 2.83L4 21.41c.39.39.9.59 1.41.59.51 0 1.02-.2 1.41-.59l7.78-7.78 2.81-2.81c.8-.78.8-2.07 0-2.86zM5.41 20L4 18.59l7.72-7.72 1.47 1.35L5.41 20z\"/>\n",
              "  </svg>\n",
              "      </button>\n",
              "      \n",
              "  <style>\n",
              "    .colab-df-container {\n",
              "      display:flex;\n",
              "      flex-wrap:wrap;\n",
              "      gap: 12px;\n",
              "    }\n",
              "\n",
              "    .colab-df-convert {\n",
              "      background-color: #E8F0FE;\n",
              "      border: none;\n",
              "      border-radius: 50%;\n",
              "      cursor: pointer;\n",
              "      display: none;\n",
              "      fill: #1967D2;\n",
              "      height: 32px;\n",
              "      padding: 0 0 0 0;\n",
              "      width: 32px;\n",
              "    }\n",
              "\n",
              "    .colab-df-convert:hover {\n",
              "      background-color: #E2EBFA;\n",
              "      box-shadow: 0px 1px 2px rgba(60, 64, 67, 0.3), 0px 1px 3px 1px rgba(60, 64, 67, 0.15);\n",
              "      fill: #174EA6;\n",
              "    }\n",
              "\n",
              "    [theme=dark] .colab-df-convert {\n",
              "      background-color: #3B4455;\n",
              "      fill: #D2E3FC;\n",
              "    }\n",
              "\n",
              "    [theme=dark] .colab-df-convert:hover {\n",
              "      background-color: #434B5C;\n",
              "      box-shadow: 0px 1px 3px 1px rgba(0, 0, 0, 0.15);\n",
              "      filter: drop-shadow(0px 1px 2px rgba(0, 0, 0, 0.3));\n",
              "      fill: #FFFFFF;\n",
              "    }\n",
              "  </style>\n",
              "\n",
              "      <script>\n",
              "        const buttonEl =\n",
              "          document.querySelector('#df-07254342-73d0-4567-937a-79d19ed90e19 button.colab-df-convert');\n",
              "        buttonEl.style.display =\n",
              "          google.colab.kernel.accessAllowed ? 'block' : 'none';\n",
              "\n",
              "        async function convertToInteractive(key) {\n",
              "          const element = document.querySelector('#df-07254342-73d0-4567-937a-79d19ed90e19');\n",
              "          const dataTable =\n",
              "            await google.colab.kernel.invokeFunction('convertToInteractive',\n",
              "                                                     [key], {});\n",
              "          if (!dataTable) return;\n",
              "\n",
              "          const docLinkHtml = 'Like what you see? Visit the ' +\n",
              "            '<a target=\"_blank\" href=https://colab.research.google.com/notebooks/data_table.ipynb>data table notebook</a>'\n",
              "            + ' to learn more about interactive tables.';\n",
              "          element.innerHTML = '';\n",
              "          dataTable['output_type'] = 'display_data';\n",
              "          await google.colab.output.renderOutput(dataTable, element);\n",
              "          const docLink = document.createElement('div');\n",
              "          docLink.innerHTML = docLinkHtml;\n",
              "          element.appendChild(docLink);\n",
              "        }\n",
              "      </script>\n",
              "    </div>\n",
              "  </div>\n",
              "  "
            ]
          },
          "metadata": {},
          "execution_count": 100
        }
      ]
    },
    {
      "cell_type": "markdown",
      "source": [
        "Validação Cruzada com KFold"
      ],
      "metadata": {
        "id": "2XWJ8LCFDC4M"
      }
    },
    {
      "cell_type": "code",
      "source": [
        "# importando o modelo de seleção - KFold\n",
        "from sklearn.model_selection import KFold\n",
        "\n",
        "# importando nossas metricas\n",
        "from sklearn.metrics import accuracy_score\n",
        "\n",
        "# importando nosso modelo de machine learning - XGBoost\n",
        "from xgboost import XGBClassifier\n",
        "\n",
        "# importando nossa biblioteca de funções matemáticas\n",
        "import numpy as np"
      ],
      "metadata": {
        "id": "GFnUMXkYDENF"
      },
      "execution_count": 101,
      "outputs": []
    },
    {
      "cell_type": "code",
      "source": [
        "# Verificando nossa métrica com XGBClassifier\n",
        "# Com 5 repetições para cada divisão dos dados em 3 splits\n",
        "\n",
        "resultados = []\n",
        "for rep in range(5):\n",
        "  print ('Repetição :',rep)\n",
        "  kf = KFold(n_splits=3, shuffle=True, random_state = rep)\n",
        "\n",
        "  for linhas_treino, linhas_teste in kf.split(X):\n",
        "    print('Treino :', linhas_treino.shape[0])\n",
        "    print('Teste :', linhas_teste.shape[0])\n",
        "\n",
        "    X_train, X_test = X.iloc[linhas_treino], X.iloc[linhas_teste]\n",
        "    y_train, y_test = y.iloc[linhas_treino], y.iloc[linhas_teste]\n",
        "\n",
        "    ml_model = XGBClassifier(learning_rate=0.0145, n_estimators=1000, max_depth=6, subsample=1.0, colsample_bytree=1.0, gamma=1,\n",
        "                         random_state=0, n_jobs=1) # 84.84\n",
        "    ml_model.fit(X_train, y_train)\n",
        "\n",
        "    p = ml_model.predict(X_test)\n",
        "\n",
        "    acc = np.mean(y_test == p)\n",
        "\n",
        "    resultados.append(acc)\n",
        "\n",
        "    print()\n",
        "    print('Acurácia',acc)\n",
        "    print()"
      ],
      "metadata": {
        "colab": {
          "base_uri": "https://localhost:8080/"
        },
        "id": "nC_tHb0cDKGG",
        "outputId": "bb12e95c-d7c7-4b65-d742-0d03fea9e94b"
      },
      "execution_count": 102,
      "outputs": [
        {
          "output_type": "stream",
          "name": "stdout",
          "text": [
            "Repetição : 0\n",
            "Treino : 27827\n",
            "Teste : 13914\n",
            "\n",
            "Acurácia 0.8371424464568061\n",
            "\n",
            "Treino : 27827\n",
            "Teste : 13914\n",
            "\n",
            "Acurácia 0.8447606727037517\n",
            "\n",
            "Treino : 27828\n",
            "Teste : 13913\n",
            "\n",
            "Acurácia 0.8397901243441386\n",
            "\n",
            "Repetição : 1\n",
            "Treino : 27827\n",
            "Teste : 13914\n",
            "\n",
            "Acurácia 0.842101480523214\n",
            "\n",
            "Treino : 27827\n",
            "Teste : 13914\n",
            "\n",
            "Acurácia 0.8388673278712089\n",
            "\n",
            "Treino : 27828\n",
            "Teste : 13913\n",
            "\n",
            "Acurácia 0.8400057500179688\n",
            "\n",
            "Repetição : 2\n",
            "Treino : 27827\n",
            "Teste : 13914\n",
            "\n",
            "Acurácia 0.8424608308178813\n",
            "\n",
            "Treino : 27827\n",
            "Teste : 13914\n",
            "\n",
            "Acurácia 0.8395860284605433\n",
            "\n",
            "Treino : 27828\n",
            "Teste : 13913\n",
            "\n",
            "Acurácia 0.8418745058578309\n",
            "\n",
            "Repetição : 3\n",
            "Treino : 27827\n",
            "Teste : 13914\n",
            "\n",
            "Acurácia 0.8383642374586747\n",
            "\n",
            "Treino : 27827\n",
            "Teste : 13914\n",
            "\n",
            "Acurácia 0.8407359494034785\n",
            "\n",
            "Treino : 27828\n",
            "Teste : 13913\n",
            "\n",
            "Acurácia 0.8458995184359951\n",
            "\n",
            "Repetição : 4\n",
            "Treino : 27827\n",
            "Teste : 13914\n",
            "\n",
            "Acurácia 0.8436826218197498\n",
            "\n",
            "Treino : 27827\n",
            "Teste : 13914\n",
            "\n",
            "Acurácia 0.8364956159264051\n",
            "\n",
            "Treino : 27828\n",
            "Teste : 13913\n",
            "\n",
            "Acurácia 0.8423057572054913\n",
            "\n"
          ]
        }
      ]
    },
    {
      "cell_type": "code",
      "source": [
        "# Nossa acurácia média\n",
        "np.mean(resultados)"
      ],
      "metadata": {
        "colab": {
          "base_uri": "https://localhost:8080/"
        },
        "id": "Pagvp5iqKFho",
        "outputId": "d762da78-8fe1-4274-9d7d-0de930d08b38"
      },
      "execution_count": 103,
      "outputs": [
        {
          "output_type": "execute_result",
          "data": {
            "text/plain": [
              "0.8409381911535425"
            ]
          },
          "metadata": {},
          "execution_count": 103
        }
      ]
    }
  ]
}